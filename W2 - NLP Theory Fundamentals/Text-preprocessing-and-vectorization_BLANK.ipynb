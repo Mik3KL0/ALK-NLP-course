{
 "cells": [
  {
   "cell_type": "markdown",
   "id": "0ca0f351",
   "metadata": {},
   "source": [
    "# Imports"
   ]
  },
  {
   "cell_type": "code",
   "execution_count": 63,
   "id": "3c6e12d5",
   "metadata": {},
   "outputs": [],
   "source": [
    "# nltk is a usefull library for text processing practice\n",
    "import nltk                             \n",
    "from nltk.corpus import twitter_samples\n",
    "\n",
    "from nltk.corpus import stopwords \n",
    "from nltk.stem import PorterStemmer\n",
    "from nltk.tokenize import TweetTokenizer "
   ]
  },
  {
   "cell_type": "code",
   "execution_count": 64,
   "id": "7c86e986",
   "metadata": {},
   "outputs": [],
   "source": [
    "import pandas as pd\n",
    "import numpy as np\n",
    "import pickle\n",
    "import pickle\n",
    "import re        "
   ]
  },
  {
   "cell_type": "code",
   "execution_count": 65,
   "id": "defc0351",
   "metadata": {},
   "outputs": [],
   "source": [
    "\n",
    "from plotly.offline import iplot\n",
    "import plotly.graph_objects as go"
   ]
  },
  {
   "cell_type": "code",
   "execution_count": 66,
   "id": "4b78d8aa",
   "metadata": {},
   "outputs": [],
   "source": [
    "from sklearn.manifold import TSNE\n",
    "from sklearn.neighbors import NearestNeighbors"
   ]
  },
  {
   "cell_type": "code",
   "execution_count": 67,
   "id": "08408120",
   "metadata": {},
   "outputs": [
    {
     "name": "stderr",
     "output_type": "stream",
     "text": [
      "[nltk_data] Downloading package twitter_samples to\n",
      "[nltk_data]     C:\\Users\\mklos\\AppData\\Roaming\\nltk_data...\n",
      "[nltk_data]   Package twitter_samples is already up-to-date!\n"
     ]
    },
    {
     "data": {
      "text/plain": [
       "True"
      ]
     },
     "execution_count": 67,
     "metadata": {},
     "output_type": "execute_result"
    }
   ],
   "source": [
    "# Download examples we'll use in our excercise\n",
    "nltk.download('twitter_samples')"
   ]
  },
  {
   "cell_type": "code",
   "execution_count": 68,
   "id": "26c48af4",
   "metadata": {},
   "outputs": [],
   "source": [
    "# select the set of positive and negative tweets\n",
    "tweets_p = twitter_samples.strings('positive_tweets.json')\n",
    "tweets_n = twitter_samples.strings('negative_tweets.json')"
   ]
  },
  {
   "cell_type": "code",
   "execution_count": 69,
   "id": "b098fbb9",
   "metadata": {},
   "outputs": [
    {
     "data": {
      "text/plain": [
       "10000"
      ]
     },
     "execution_count": 69,
     "metadata": {},
     "output_type": "execute_result"
    }
   ],
   "source": [
    "## Join negative and positive tweets into one list + check sample size\n",
    "all_tweets = tweets_p + tweets_n\n",
    "len(all_tweets)"
   ]
  },
  {
   "cell_type": "markdown",
   "id": "c40b73c0",
   "metadata": {},
   "source": [
    "# Text processing"
   ]
  },
  {
   "cell_type": "markdown",
   "id": "29d43d06",
   "metadata": {},
   "source": [
    "## Remove unwanted characters"
   ]
  },
  {
   "cell_type": "markdown",
   "id": "28c2f505",
   "metadata": {},
   "source": [
    "- Remove Twitter specific characters such as hashtags and hyperlinks\n",
    "- Strip any html present (not always the best solutions, but overall recommended to start with)\n",
    "- Lower case only (especially important in simple word tokenization)"
   ]
  },
  {
   "cell_type": "code",
   "execution_count": 70,
   "id": "4d1f7ce4",
   "metadata": {},
   "outputs": [],
   "source": [
    "tweet_with_hash_an_url = \"FollowFriday @France_Inte @PKuchly57 @Milipol_Paris for being top engaged members in my community this week, see more at https://www.somerandompage.com\""
   ]
  },
  {
   "cell_type": "code",
   "execution_count": 71,
   "id": "b6e0b024",
   "metadata": {},
   "outputs": [],
   "source": [
    "# remove hyperlinks\n",
    "tweet_mod = re.sub(r'https?://[^\\s\\n\\r]+', '', tweet_with_hash_an_url)"
   ]
  },
  {
   "cell_type": "code",
   "execution_count": 72,
   "id": "fa4bdb33",
   "metadata": {},
   "outputs": [
    {
     "data": {
      "text/plain": [
       "'FollowFriday @France_Inte @PKuchly57 @Milipol_Paris for being top engaged members in my community this week, see more at '"
      ]
     },
     "execution_count": 72,
     "metadata": {},
     "output_type": "execute_result"
    }
   ],
   "source": [
    "tweet_mod "
   ]
  },
  {
   "cell_type": "code",
   "execution_count": 73,
   "id": "29e9ed43",
   "metadata": {},
   "outputs": [],
   "source": [
    "# remove hashtag\n",
    "tweet_mod = re.sub(r'#', '', tweet_mod)"
   ]
  },
  {
   "cell_type": "code",
   "execution_count": 74,
   "id": "a4958ac9",
   "metadata": {},
   "outputs": [
    {
     "data": {
      "text/plain": [
       "'FollowFriday @France_Inte @PKuchly57 @Milipol_Paris for being top engaged members in my community this week, see more at '"
      ]
     },
     "execution_count": 74,
     "metadata": {},
     "output_type": "execute_result"
    }
   ],
   "source": [
    "tweet_mod"
   ]
  },
  {
   "cell_type": "markdown",
   "id": "72fdd234",
   "metadata": {},
   "source": [
    "## Apply same process to our tweets"
   ]
  },
  {
   "cell_type": "code",
   "execution_count": 75,
   "id": "97f056aa",
   "metadata": {},
   "outputs": [],
   "source": [
    "def clean_tweet(tweet):\n",
    "    #Create a function, which will remove urls, hashtags and uppercase\n",
    "    # remove hyperlinks\n",
    "    tweet_mod = re.sub(r'https?://[^\\s\\n\\r]+', '', tweet)\n",
    "    # remove hashtag\n",
    "    tweet_mod = re.sub(r'#', '', tweet_mod)\n",
    "    # remove uppercase\n",
    "    tweet_mod = tweet_mod.lower()\n",
    "    return tweet_mod"
   ]
  },
  {
   "cell_type": "code",
   "execution_count": 76,
   "id": "42434c68",
   "metadata": {},
   "outputs": [
    {
     "data": {
      "text/plain": [
       "'followfriday @france_inte @pkuchly57 @milipol_paris for being top engaged members in my community this week, see more at '"
      ]
     },
     "execution_count": 76,
     "metadata": {},
     "output_type": "execute_result"
    }
   ],
   "source": [
    "clean_tweet(tweet_with_hash_an_url)"
   ]
  },
  {
   "cell_type": "code",
   "execution_count": 77,
   "id": "70ab3aba",
   "metadata": {},
   "outputs": [],
   "source": [
    "# Create list of cleaned twits\n",
    "all_tweets_clean = [clean_tweet(tweets) for tweets in all_tweets]"
   ]
  },
  {
   "cell_type": "code",
   "execution_count": 78,
   "id": "a0e69e95",
   "metadata": {},
   "outputs": [
    {
     "data": {
      "text/plain": [
       "'@despiteofficial we had a listen last night :) as you bleed is an amazing track. when are you in scotland?!'"
      ]
     },
     "execution_count": 78,
     "metadata": {},
     "output_type": "execute_result"
    }
   ],
   "source": [
    "all_tweets_clean[2]"
   ]
  },
  {
   "cell_type": "markdown",
   "id": "a677eb2d",
   "metadata": {},
   "source": [
    "## Regex practice"
   ]
  },
  {
   "cell_type": "markdown",
   "id": "470b7a89",
   "metadata": {},
   "source": [
    "- Extract all names preceeded by \"@\"\n",
    "- Extract numeric values only\n",
    "- extract smily and sad faces\n",
    "\n",
    "Use any online materials - recommmended REGEX 101 or even CHATGPT"
   ]
  },
  {
   "cell_type": "code",
   "execution_count": 79,
   "id": "c18f399e",
   "metadata": {},
   "outputs": [],
   "source": [
    "re_text1 = \" @France_Inte @PKuchly57 @Milipol_Paris for being top engaged members\""
   ]
  },
  {
   "cell_type": "code",
   "execution_count": 80,
   "id": "a580a740",
   "metadata": {},
   "outputs": [
    {
     "data": {
      "text/plain": [
       "['@France_Inte', '@PKuchly57', '@Milipol_Paris']"
      ]
     },
     "execution_count": 80,
     "metadata": {},
     "output_type": "execute_result"
    }
   ],
   "source": [
    "re_text1 = re.findall(r'@\\w+', re_text1)\n",
    "re_text1"
   ]
  },
  {
   "cell_type": "code",
   "execution_count": 81,
   "id": "1159d704",
   "metadata": {},
   "outputs": [],
   "source": [
    "re_text2 = '@lamb2ja hey james! how odd :/ please call our contact centre on 02392441234 and we will be able to assist you :) many thanks! within 24 hours'"
   ]
  },
  {
   "cell_type": "code",
   "execution_count": 82,
   "id": "73668dce",
   "metadata": {},
   "outputs": [
    {
     "name": "stdout",
     "output_type": "stream",
     "text": [
      "['@lamb2ja']\n",
      "['2', '02392441234', '24']\n",
      "[':/', ':)']\n"
     ]
    }
   ],
   "source": [
    "print(re.findall(r'@\\w+', re_text2))\n",
    "# extract numeric values only\n",
    "print(re.findall(r'\\d+', re_text2))\n",
    "# extract smily and sad faces\n",
    "print(re.findall(r'[:;=8][\\'\\-]?[)dDpP/\\\\]', re_text2))"
   ]
  },
  {
   "cell_type": "code",
   "execution_count": 83,
   "id": "9148b41a",
   "metadata": {},
   "outputs": [],
   "source": [
    "re_text3 = '@despiteofficial we had a listen last night :) as you bleed is an amazing track. why is the weather so bad:('"
   ]
  },
  {
   "cell_type": "code",
   "execution_count": 84,
   "id": "3d5e8ce3",
   "metadata": {},
   "outputs": [
    {
     "name": "stdout",
     "output_type": "stream",
     "text": [
      "['@despiteofficial']\n",
      "[]\n",
      "[':)', ':(']\n"
     ]
    }
   ],
   "source": [
    "print(re.findall(r'@\\w+', re_text3))\n",
    "# extract numeric values only\n",
    "print(re.findall(r'\\d+', re_text3))\n",
    "# extract smily and sad faces\n",
    "print(re.findall(r'[:;=8][\\'\\-]?[())dDpP/\\\\]', re_text3))"
   ]
  },
  {
   "cell_type": "markdown",
   "id": "48a812eb",
   "metadata": {},
   "source": [
    "# Basic tokenization"
   ]
  },
  {
   "cell_type": "code",
   "execution_count": 85,
   "id": "3d879ee5",
   "metadata": {},
   "outputs": [],
   "source": [
    "tokenizer = TweetTokenizer(preserve_case=False, strip_handles=True,\n",
    "                               reduce_len=True)"
   ]
  },
  {
   "cell_type": "code",
   "execution_count": 86,
   "id": "6e551310",
   "metadata": {},
   "outputs": [],
   "source": [
    "tweet_tokens = tokenizer.tokenize(tweet_mod)"
   ]
  },
  {
   "cell_type": "code",
   "execution_count": 87,
   "id": "beec061f",
   "metadata": {},
   "outputs": [
    {
     "name": "stdout",
     "output_type": "stream",
     "text": [
      "['followfriday', 'for', 'being', 'top', 'engaged', 'members', 'in', 'my', 'community', 'this', 'week', ',', 'see', 'more', 'at']\n"
     ]
    }
   ],
   "source": [
    "print(tweet_tokens)"
   ]
  },
  {
   "cell_type": "markdown",
   "id": "44ed269f",
   "metadata": {},
   "source": [
    "## Stemming"
   ]
  },
  {
   "cell_type": "markdown",
   "id": "73dc37d9",
   "metadata": {},
   "source": [
    "Generalize words to reduce vocabulary size.\n",
    "\n",
    "Consider the words with same root: \n",
    " * **learn**\n",
    " * **learn**ing\n",
    " * **learn**ed\n",
    " * **learn**t\n",
    " "
   ]
  },
  {
   "cell_type": "code",
   "execution_count": 88,
   "id": "a30bdba4",
   "metadata": {},
   "outputs": [],
   "source": [
    "# Let's use build in PorterStemmer\n",
    "stemmer = PorterStemmer()"
   ]
  },
  {
   "cell_type": "code",
   "execution_count": 89,
   "id": "5ac86dd3",
   "metadata": {},
   "outputs": [],
   "source": [
    "tweet_stemmed = [] \n",
    "for word in tweet_tokens:\n",
    "    stem_word = stemmer.stem(word)\n",
    "    tweet_stemmed.append(stem_word)"
   ]
  },
  {
   "cell_type": "code",
   "execution_count": 90,
   "id": "e9f6eb06",
   "metadata": {},
   "outputs": [
    {
     "name": "stdout",
     "output_type": "stream",
     "text": [
      "['followfriday', 'for', 'be', 'top', 'engag', 'member', 'in', 'my', 'commun', 'thi', 'week', ',', 'see', 'more', 'at']\n"
     ]
    }
   ],
   "source": [
    "print(tweet_stemmed)"
   ]
  },
  {
   "cell_type": "markdown",
   "id": "9bb60951",
   "metadata": {},
   "source": [
    "# Create function converting cleaned tweets to tokenized"
   ]
  },
  {
   "cell_type": "code",
   "execution_count": 91,
   "id": "25dfb944",
   "metadata": {},
   "outputs": [],
   "source": [
    "def tokenize_tweet(clean_tweet):\n",
    "    # Function to tokenize and stemm a tweet\n",
    "    tweet_tokens = tokenizer.tokenize(clean_tweet)\n",
    "    \n",
    "    tweet_stemmed = [] \n",
    "    for word in tweet_tokens:\n",
    "        stem_word = stemmer.stem(word)\n",
    "        tweet_stemmed.append(stem_word)\n",
    "        \n",
    "    return tweet_stemmed    "
   ]
  },
  {
   "cell_type": "code",
   "execution_count": 92,
   "id": "f13b437d",
   "metadata": {},
   "outputs": [
    {
     "data": {
      "text/plain": [
       "['followfriday',\n",
       " 'for',\n",
       " 'be',\n",
       " 'top',\n",
       " 'engag',\n",
       " 'member',\n",
       " 'in',\n",
       " 'my',\n",
       " 'commun',\n",
       " 'thi',\n",
       " 'week',\n",
       " ':)']"
      ]
     },
     "execution_count": 92,
     "metadata": {},
     "output_type": "execute_result"
    }
   ],
   "source": [
    "tokenize_tweet(all_tweets_clean[0])"
   ]
  },
  {
   "cell_type": "markdown",
   "id": "18400239",
   "metadata": {},
   "source": [
    "# More advanced cases of tokenization"
   ]
  },
  {
   "cell_type": "markdown",
   "id": "bc272b37",
   "metadata": {},
   "source": [
    "Let's experiment with tokenizer used by BERT"
   ]
  },
  {
   "cell_type": "code",
   "execution_count": 93,
   "id": "c021e7cc",
   "metadata": {},
   "outputs": [],
   "source": [
    "from transformers import BertConfig, BertModel\n",
    "\n",
    "# Initializing a BERT bert-base-uncased style configuration\n",
    "configuration = BertConfig()\n",
    "\n",
    "# Initializing a model (with random weights) from the bert-base-uncased style configuration\n",
    "model = BertModel(configuration)\n",
    "\n",
    "# Accessing the model configuration\n",
    "configuration = model.config"
   ]
  },
  {
   "cell_type": "code",
   "execution_count": 94,
   "id": "0fea4179",
   "metadata": {},
   "outputs": [],
   "source": [
    "from transformers import BertTokenizer, BertModel\n",
    "\n",
    "\n",
    "tokenizer = BertTokenizer.from_pretrained(\"bert-base-uncased\")"
   ]
  },
  {
   "cell_type": "code",
   "execution_count": 95,
   "id": "731dca84",
   "metadata": {},
   "outputs": [
    {
     "data": {
      "text/plain": [
       "'FollowFriday @France_Inte @PKuchly57 @Milipol_Paris for being top engaged members in my community this week, see more at '"
      ]
     },
     "execution_count": 95,
     "metadata": {},
     "output_type": "execute_result"
    }
   ],
   "source": [
    "tweet_mod"
   ]
  },
  {
   "cell_type": "code",
   "execution_count": 96,
   "id": "9e630395",
   "metadata": {},
   "outputs": [],
   "source": [
    "text = tweet_mod"
   ]
  },
  {
   "cell_type": "code",
   "execution_count": 97,
   "id": "22cbe043",
   "metadata": {},
   "outputs": [],
   "source": [
    "encoded_input = tokenizer(text, return_tensors='pt')"
   ]
  },
  {
   "cell_type": "code",
   "execution_count": 98,
   "id": "ac8461b3",
   "metadata": {},
   "outputs": [
    {
     "data": {
      "text/plain": [
       "{'input_ids': tensor([[  101,  3582, 27439,  4710,  1030,  2605,  1035, 20014,  2063,  1030,\n",
       "          1052,  5283,  2818,  2135, 28311,  1030, 23689, 11514,  4747,  1035,\n",
       "          3000,  2005,  2108,  2327,  5117,  2372,  1999,  2026,  2451,  2023,\n",
       "          2733,  1010,  2156,  2062,  2012,   102]]), 'token_type_ids': tensor([[0, 0, 0, 0, 0, 0, 0, 0, 0, 0, 0, 0, 0, 0, 0, 0, 0, 0, 0, 0, 0, 0, 0, 0,\n",
       "         0, 0, 0, 0, 0, 0, 0, 0, 0, 0, 0, 0]]), 'attention_mask': tensor([[1, 1, 1, 1, 1, 1, 1, 1, 1, 1, 1, 1, 1, 1, 1, 1, 1, 1, 1, 1, 1, 1, 1, 1,\n",
       "         1, 1, 1, 1, 1, 1, 1, 1, 1, 1, 1, 1]])}"
      ]
     },
     "execution_count": 98,
     "metadata": {},
     "output_type": "execute_result"
    }
   ],
   "source": [
    "encoded_input"
   ]
  },
  {
   "cell_type": "markdown",
   "id": "e5b4c20a",
   "metadata": {},
   "source": [
    "Chceck tokenizer vocal size"
   ]
  },
  {
   "cell_type": "markdown",
   "id": "7bf01c2b",
   "metadata": {},
   "source": [
    "Analize vocab values and tokens, reverse vocab dictionary to match tokens to words"
   ]
  },
  {
   "cell_type": "markdown",
   "id": "b3ce8bc0",
   "metadata": {},
   "source": [
    "We can find all word-token pairs in tokenizer.vocab.items() stored as tupples. Let's create a reversed dict, where we will be able to backengineer each token to corresponding characters"
   ]
  },
  {
   "cell_type": "code",
   "execution_count": 99,
   "id": "eecdab82",
   "metadata": {},
   "outputs": [
    {
     "data": {
      "text/plain": [
       "{0: '[PAD]',\n",
       " 1: '[unused0]',\n",
       " 2: '[unused1]',\n",
       " 3: '[unused2]',\n",
       " 4: '[unused3]',\n",
       " 5: '[unused4]',\n",
       " 6: '[unused5]',\n",
       " 7: '[unused6]',\n",
       " 8: '[unused7]',\n",
       " 9: '[unused8]',\n",
       " 10: '[unused9]',\n",
       " 11: '[unused10]',\n",
       " 12: '[unused11]',\n",
       " 13: '[unused12]',\n",
       " 14: '[unused13]',\n",
       " 15: '[unused14]',\n",
       " 16: '[unused15]',\n",
       " 17: '[unused16]',\n",
       " 18: '[unused17]',\n",
       " 19: '[unused18]',\n",
       " 20: '[unused19]',\n",
       " 21: '[unused20]',\n",
       " 22: '[unused21]',\n",
       " 23: '[unused22]',\n",
       " 24: '[unused23]',\n",
       " 25: '[unused24]',\n",
       " 26: '[unused25]',\n",
       " 27: '[unused26]',\n",
       " 28: '[unused27]',\n",
       " 29: '[unused28]',\n",
       " 30: '[unused29]',\n",
       " 31: '[unused30]',\n",
       " 32: '[unused31]',\n",
       " 33: '[unused32]',\n",
       " 34: '[unused33]',\n",
       " 35: '[unused34]',\n",
       " 36: '[unused35]',\n",
       " 37: '[unused36]',\n",
       " 38: '[unused37]',\n",
       " 39: '[unused38]',\n",
       " 40: '[unused39]',\n",
       " 41: '[unused40]',\n",
       " 42: '[unused41]',\n",
       " 43: '[unused42]',\n",
       " 44: '[unused43]',\n",
       " 45: '[unused44]',\n",
       " 46: '[unused45]',\n",
       " 47: '[unused46]',\n",
       " 48: '[unused47]',\n",
       " 49: '[unused48]',\n",
       " 50: '[unused49]',\n",
       " 51: '[unused50]',\n",
       " 52: '[unused51]',\n",
       " 53: '[unused52]',\n",
       " 54: '[unused53]',\n",
       " 55: '[unused54]',\n",
       " 56: '[unused55]',\n",
       " 57: '[unused56]',\n",
       " 58: '[unused57]',\n",
       " 59: '[unused58]',\n",
       " 60: '[unused59]',\n",
       " 61: '[unused60]',\n",
       " 62: '[unused61]',\n",
       " 63: '[unused62]',\n",
       " 64: '[unused63]',\n",
       " 65: '[unused64]',\n",
       " 66: '[unused65]',\n",
       " 67: '[unused66]',\n",
       " 68: '[unused67]',\n",
       " 69: '[unused68]',\n",
       " 70: '[unused69]',\n",
       " 71: '[unused70]',\n",
       " 72: '[unused71]',\n",
       " 73: '[unused72]',\n",
       " 74: '[unused73]',\n",
       " 75: '[unused74]',\n",
       " 76: '[unused75]',\n",
       " 77: '[unused76]',\n",
       " 78: '[unused77]',\n",
       " 79: '[unused78]',\n",
       " 80: '[unused79]',\n",
       " 81: '[unused80]',\n",
       " 82: '[unused81]',\n",
       " 83: '[unused82]',\n",
       " 84: '[unused83]',\n",
       " 85: '[unused84]',\n",
       " 86: '[unused85]',\n",
       " 87: '[unused86]',\n",
       " 88: '[unused87]',\n",
       " 89: '[unused88]',\n",
       " 90: '[unused89]',\n",
       " 91: '[unused90]',\n",
       " 92: '[unused91]',\n",
       " 93: '[unused92]',\n",
       " 94: '[unused93]',\n",
       " 95: '[unused94]',\n",
       " 96: '[unused95]',\n",
       " 97: '[unused96]',\n",
       " 98: '[unused97]',\n",
       " 99: '[unused98]',\n",
       " 100: '[UNK]',\n",
       " 101: '[CLS]',\n",
       " 102: '[SEP]',\n",
       " 103: '[MASK]',\n",
       " 104: '[unused99]',\n",
       " 105: '[unused100]',\n",
       " 106: '[unused101]',\n",
       " 107: '[unused102]',\n",
       " 108: '[unused103]',\n",
       " 109: '[unused104]',\n",
       " 110: '[unused105]',\n",
       " 111: '[unused106]',\n",
       " 112: '[unused107]',\n",
       " 113: '[unused108]',\n",
       " 114: '[unused109]',\n",
       " 115: '[unused110]',\n",
       " 116: '[unused111]',\n",
       " 117: '[unused112]',\n",
       " 118: '[unused113]',\n",
       " 119: '[unused114]',\n",
       " 120: '[unused115]',\n",
       " 121: '[unused116]',\n",
       " 122: '[unused117]',\n",
       " 123: '[unused118]',\n",
       " 124: '[unused119]',\n",
       " 125: '[unused120]',\n",
       " 126: '[unused121]',\n",
       " 127: '[unused122]',\n",
       " 128: '[unused123]',\n",
       " 129: '[unused124]',\n",
       " 130: '[unused125]',\n",
       " 131: '[unused126]',\n",
       " 132: '[unused127]',\n",
       " 133: '[unused128]',\n",
       " 134: '[unused129]',\n",
       " 135: '[unused130]',\n",
       " 136: '[unused131]',\n",
       " 137: '[unused132]',\n",
       " 138: '[unused133]',\n",
       " 139: '[unused134]',\n",
       " 140: '[unused135]',\n",
       " 141: '[unused136]',\n",
       " 142: '[unused137]',\n",
       " 143: '[unused138]',\n",
       " 144: '[unused139]',\n",
       " 145: '[unused140]',\n",
       " 146: '[unused141]',\n",
       " 147: '[unused142]',\n",
       " 148: '[unused143]',\n",
       " 149: '[unused144]',\n",
       " 150: '[unused145]',\n",
       " 151: '[unused146]',\n",
       " 152: '[unused147]',\n",
       " 153: '[unused148]',\n",
       " 154: '[unused149]',\n",
       " 155: '[unused150]',\n",
       " 156: '[unused151]',\n",
       " 157: '[unused152]',\n",
       " 158: '[unused153]',\n",
       " 159: '[unused154]',\n",
       " 160: '[unused155]',\n",
       " 161: '[unused156]',\n",
       " 162: '[unused157]',\n",
       " 163: '[unused158]',\n",
       " 164: '[unused159]',\n",
       " 165: '[unused160]',\n",
       " 166: '[unused161]',\n",
       " 167: '[unused162]',\n",
       " 168: '[unused163]',\n",
       " 169: '[unused164]',\n",
       " 170: '[unused165]',\n",
       " 171: '[unused166]',\n",
       " 172: '[unused167]',\n",
       " 173: '[unused168]',\n",
       " 174: '[unused169]',\n",
       " 175: '[unused170]',\n",
       " 176: '[unused171]',\n",
       " 177: '[unused172]',\n",
       " 178: '[unused173]',\n",
       " 179: '[unused174]',\n",
       " 180: '[unused175]',\n",
       " 181: '[unused176]',\n",
       " 182: '[unused177]',\n",
       " 183: '[unused178]',\n",
       " 184: '[unused179]',\n",
       " 185: '[unused180]',\n",
       " 186: '[unused181]',\n",
       " 187: '[unused182]',\n",
       " 188: '[unused183]',\n",
       " 189: '[unused184]',\n",
       " 190: '[unused185]',\n",
       " 191: '[unused186]',\n",
       " 192: '[unused187]',\n",
       " 193: '[unused188]',\n",
       " 194: '[unused189]',\n",
       " 195: '[unused190]',\n",
       " 196: '[unused191]',\n",
       " 197: '[unused192]',\n",
       " 198: '[unused193]',\n",
       " 199: '[unused194]',\n",
       " 200: '[unused195]',\n",
       " 201: '[unused196]',\n",
       " 202: '[unused197]',\n",
       " 203: '[unused198]',\n",
       " 204: '[unused199]',\n",
       " 205: '[unused200]',\n",
       " 206: '[unused201]',\n",
       " 207: '[unused202]',\n",
       " 208: '[unused203]',\n",
       " 209: '[unused204]',\n",
       " 210: '[unused205]',\n",
       " 211: '[unused206]',\n",
       " 212: '[unused207]',\n",
       " 213: '[unused208]',\n",
       " 214: '[unused209]',\n",
       " 215: '[unused210]',\n",
       " 216: '[unused211]',\n",
       " 217: '[unused212]',\n",
       " 218: '[unused213]',\n",
       " 219: '[unused214]',\n",
       " 220: '[unused215]',\n",
       " 221: '[unused216]',\n",
       " 222: '[unused217]',\n",
       " 223: '[unused218]',\n",
       " 224: '[unused219]',\n",
       " 225: '[unused220]',\n",
       " 226: '[unused221]',\n",
       " 227: '[unused222]',\n",
       " 228: '[unused223]',\n",
       " 229: '[unused224]',\n",
       " 230: '[unused225]',\n",
       " 231: '[unused226]',\n",
       " 232: '[unused227]',\n",
       " 233: '[unused228]',\n",
       " 234: '[unused229]',\n",
       " 235: '[unused230]',\n",
       " 236: '[unused231]',\n",
       " 237: '[unused232]',\n",
       " 238: '[unused233]',\n",
       " 239: '[unused234]',\n",
       " 240: '[unused235]',\n",
       " 241: '[unused236]',\n",
       " 242: '[unused237]',\n",
       " 243: '[unused238]',\n",
       " 244: '[unused239]',\n",
       " 245: '[unused240]',\n",
       " 246: '[unused241]',\n",
       " 247: '[unused242]',\n",
       " 248: '[unused243]',\n",
       " 249: '[unused244]',\n",
       " 250: '[unused245]',\n",
       " 251: '[unused246]',\n",
       " 252: '[unused247]',\n",
       " 253: '[unused248]',\n",
       " 254: '[unused249]',\n",
       " 255: '[unused250]',\n",
       " 256: '[unused251]',\n",
       " 257: '[unused252]',\n",
       " 258: '[unused253]',\n",
       " 259: '[unused254]',\n",
       " 260: '[unused255]',\n",
       " 261: '[unused256]',\n",
       " 262: '[unused257]',\n",
       " 263: '[unused258]',\n",
       " 264: '[unused259]',\n",
       " 265: '[unused260]',\n",
       " 266: '[unused261]',\n",
       " 267: '[unused262]',\n",
       " 268: '[unused263]',\n",
       " 269: '[unused264]',\n",
       " 270: '[unused265]',\n",
       " 271: '[unused266]',\n",
       " 272: '[unused267]',\n",
       " 273: '[unused268]',\n",
       " 274: '[unused269]',\n",
       " 275: '[unused270]',\n",
       " 276: '[unused271]',\n",
       " 277: '[unused272]',\n",
       " 278: '[unused273]',\n",
       " 279: '[unused274]',\n",
       " 280: '[unused275]',\n",
       " 281: '[unused276]',\n",
       " 282: '[unused277]',\n",
       " 283: '[unused278]',\n",
       " 284: '[unused279]',\n",
       " 285: '[unused280]',\n",
       " 286: '[unused281]',\n",
       " 287: '[unused282]',\n",
       " 288: '[unused283]',\n",
       " 289: '[unused284]',\n",
       " 290: '[unused285]',\n",
       " 291: '[unused286]',\n",
       " 292: '[unused287]',\n",
       " 293: '[unused288]',\n",
       " 294: '[unused289]',\n",
       " 295: '[unused290]',\n",
       " 296: '[unused291]',\n",
       " 297: '[unused292]',\n",
       " 298: '[unused293]',\n",
       " 299: '[unused294]',\n",
       " 300: '[unused295]',\n",
       " 301: '[unused296]',\n",
       " 302: '[unused297]',\n",
       " 303: '[unused298]',\n",
       " 304: '[unused299]',\n",
       " 305: '[unused300]',\n",
       " 306: '[unused301]',\n",
       " 307: '[unused302]',\n",
       " 308: '[unused303]',\n",
       " 309: '[unused304]',\n",
       " 310: '[unused305]',\n",
       " 311: '[unused306]',\n",
       " 312: '[unused307]',\n",
       " 313: '[unused308]',\n",
       " 314: '[unused309]',\n",
       " 315: '[unused310]',\n",
       " 316: '[unused311]',\n",
       " 317: '[unused312]',\n",
       " 318: '[unused313]',\n",
       " 319: '[unused314]',\n",
       " 320: '[unused315]',\n",
       " 321: '[unused316]',\n",
       " 322: '[unused317]',\n",
       " 323: '[unused318]',\n",
       " 324: '[unused319]',\n",
       " 325: '[unused320]',\n",
       " 326: '[unused321]',\n",
       " 327: '[unused322]',\n",
       " 328: '[unused323]',\n",
       " 329: '[unused324]',\n",
       " 330: '[unused325]',\n",
       " 331: '[unused326]',\n",
       " 332: '[unused327]',\n",
       " 333: '[unused328]',\n",
       " 334: '[unused329]',\n",
       " 335: '[unused330]',\n",
       " 336: '[unused331]',\n",
       " 337: '[unused332]',\n",
       " 338: '[unused333]',\n",
       " 339: '[unused334]',\n",
       " 340: '[unused335]',\n",
       " 341: '[unused336]',\n",
       " 342: '[unused337]',\n",
       " 343: '[unused338]',\n",
       " 344: '[unused339]',\n",
       " 345: '[unused340]',\n",
       " 346: '[unused341]',\n",
       " 347: '[unused342]',\n",
       " 348: '[unused343]',\n",
       " 349: '[unused344]',\n",
       " 350: '[unused345]',\n",
       " 351: '[unused346]',\n",
       " 352: '[unused347]',\n",
       " 353: '[unused348]',\n",
       " 354: '[unused349]',\n",
       " 355: '[unused350]',\n",
       " 356: '[unused351]',\n",
       " 357: '[unused352]',\n",
       " 358: '[unused353]',\n",
       " 359: '[unused354]',\n",
       " 360: '[unused355]',\n",
       " 361: '[unused356]',\n",
       " 362: '[unused357]',\n",
       " 363: '[unused358]',\n",
       " 364: '[unused359]',\n",
       " 365: '[unused360]',\n",
       " 366: '[unused361]',\n",
       " 367: '[unused362]',\n",
       " 368: '[unused363]',\n",
       " 369: '[unused364]',\n",
       " 370: '[unused365]',\n",
       " 371: '[unused366]',\n",
       " 372: '[unused367]',\n",
       " 373: '[unused368]',\n",
       " 374: '[unused369]',\n",
       " 375: '[unused370]',\n",
       " 376: '[unused371]',\n",
       " 377: '[unused372]',\n",
       " 378: '[unused373]',\n",
       " 379: '[unused374]',\n",
       " 380: '[unused375]',\n",
       " 381: '[unused376]',\n",
       " 382: '[unused377]',\n",
       " 383: '[unused378]',\n",
       " 384: '[unused379]',\n",
       " 385: '[unused380]',\n",
       " 386: '[unused381]',\n",
       " 387: '[unused382]',\n",
       " 388: '[unused383]',\n",
       " 389: '[unused384]',\n",
       " 390: '[unused385]',\n",
       " 391: '[unused386]',\n",
       " 392: '[unused387]',\n",
       " 393: '[unused388]',\n",
       " 394: '[unused389]',\n",
       " 395: '[unused390]',\n",
       " 396: '[unused391]',\n",
       " 397: '[unused392]',\n",
       " 398: '[unused393]',\n",
       " 399: '[unused394]',\n",
       " 400: '[unused395]',\n",
       " 401: '[unused396]',\n",
       " 402: '[unused397]',\n",
       " 403: '[unused398]',\n",
       " 404: '[unused399]',\n",
       " 405: '[unused400]',\n",
       " 406: '[unused401]',\n",
       " 407: '[unused402]',\n",
       " 408: '[unused403]',\n",
       " 409: '[unused404]',\n",
       " 410: '[unused405]',\n",
       " 411: '[unused406]',\n",
       " 412: '[unused407]',\n",
       " 413: '[unused408]',\n",
       " 414: '[unused409]',\n",
       " 415: '[unused410]',\n",
       " 416: '[unused411]',\n",
       " 417: '[unused412]',\n",
       " 418: '[unused413]',\n",
       " 419: '[unused414]',\n",
       " 420: '[unused415]',\n",
       " 421: '[unused416]',\n",
       " 422: '[unused417]',\n",
       " 423: '[unused418]',\n",
       " 424: '[unused419]',\n",
       " 425: '[unused420]',\n",
       " 426: '[unused421]',\n",
       " 427: '[unused422]',\n",
       " 428: '[unused423]',\n",
       " 429: '[unused424]',\n",
       " 430: '[unused425]',\n",
       " 431: '[unused426]',\n",
       " 432: '[unused427]',\n",
       " 433: '[unused428]',\n",
       " 434: '[unused429]',\n",
       " 435: '[unused430]',\n",
       " 436: '[unused431]',\n",
       " 437: '[unused432]',\n",
       " 438: '[unused433]',\n",
       " 439: '[unused434]',\n",
       " 440: '[unused435]',\n",
       " 441: '[unused436]',\n",
       " 442: '[unused437]',\n",
       " 443: '[unused438]',\n",
       " 444: '[unused439]',\n",
       " 445: '[unused440]',\n",
       " 446: '[unused441]',\n",
       " 447: '[unused442]',\n",
       " 448: '[unused443]',\n",
       " 449: '[unused444]',\n",
       " 450: '[unused445]',\n",
       " 451: '[unused446]',\n",
       " 452: '[unused447]',\n",
       " 453: '[unused448]',\n",
       " 454: '[unused449]',\n",
       " 455: '[unused450]',\n",
       " 456: '[unused451]',\n",
       " 457: '[unused452]',\n",
       " 458: '[unused453]',\n",
       " 459: '[unused454]',\n",
       " 460: '[unused455]',\n",
       " 461: '[unused456]',\n",
       " 462: '[unused457]',\n",
       " 463: '[unused458]',\n",
       " 464: '[unused459]',\n",
       " 465: '[unused460]',\n",
       " 466: '[unused461]',\n",
       " 467: '[unused462]',\n",
       " 468: '[unused463]',\n",
       " 469: '[unused464]',\n",
       " 470: '[unused465]',\n",
       " 471: '[unused466]',\n",
       " 472: '[unused467]',\n",
       " 473: '[unused468]',\n",
       " 474: '[unused469]',\n",
       " 475: '[unused470]',\n",
       " 476: '[unused471]',\n",
       " 477: '[unused472]',\n",
       " 478: '[unused473]',\n",
       " 479: '[unused474]',\n",
       " 480: '[unused475]',\n",
       " 481: '[unused476]',\n",
       " 482: '[unused477]',\n",
       " 483: '[unused478]',\n",
       " 484: '[unused479]',\n",
       " 485: '[unused480]',\n",
       " 486: '[unused481]',\n",
       " 487: '[unused482]',\n",
       " 488: '[unused483]',\n",
       " 489: '[unused484]',\n",
       " 490: '[unused485]',\n",
       " 491: '[unused486]',\n",
       " 492: '[unused487]',\n",
       " 493: '[unused488]',\n",
       " 494: '[unused489]',\n",
       " 495: '[unused490]',\n",
       " 496: '[unused491]',\n",
       " 497: '[unused492]',\n",
       " 498: '[unused493]',\n",
       " 499: '[unused494]',\n",
       " 500: '[unused495]',\n",
       " 501: '[unused496]',\n",
       " 502: '[unused497]',\n",
       " 503: '[unused498]',\n",
       " 504: '[unused499]',\n",
       " 505: '[unused500]',\n",
       " 506: '[unused501]',\n",
       " 507: '[unused502]',\n",
       " 508: '[unused503]',\n",
       " 509: '[unused504]',\n",
       " 510: '[unused505]',\n",
       " 511: '[unused506]',\n",
       " 512: '[unused507]',\n",
       " 513: '[unused508]',\n",
       " 514: '[unused509]',\n",
       " 515: '[unused510]',\n",
       " 516: '[unused511]',\n",
       " 517: '[unused512]',\n",
       " 518: '[unused513]',\n",
       " 519: '[unused514]',\n",
       " 520: '[unused515]',\n",
       " 521: '[unused516]',\n",
       " 522: '[unused517]',\n",
       " 523: '[unused518]',\n",
       " 524: '[unused519]',\n",
       " 525: '[unused520]',\n",
       " 526: '[unused521]',\n",
       " 527: '[unused522]',\n",
       " 528: '[unused523]',\n",
       " 529: '[unused524]',\n",
       " 530: '[unused525]',\n",
       " 531: '[unused526]',\n",
       " 532: '[unused527]',\n",
       " 533: '[unused528]',\n",
       " 534: '[unused529]',\n",
       " 535: '[unused530]',\n",
       " 536: '[unused531]',\n",
       " 537: '[unused532]',\n",
       " 538: '[unused533]',\n",
       " 539: '[unused534]',\n",
       " 540: '[unused535]',\n",
       " 541: '[unused536]',\n",
       " 542: '[unused537]',\n",
       " 543: '[unused538]',\n",
       " 544: '[unused539]',\n",
       " 545: '[unused540]',\n",
       " 546: '[unused541]',\n",
       " 547: '[unused542]',\n",
       " 548: '[unused543]',\n",
       " 549: '[unused544]',\n",
       " 550: '[unused545]',\n",
       " 551: '[unused546]',\n",
       " 552: '[unused547]',\n",
       " 553: '[unused548]',\n",
       " 554: '[unused549]',\n",
       " 555: '[unused550]',\n",
       " 556: '[unused551]',\n",
       " 557: '[unused552]',\n",
       " 558: '[unused553]',\n",
       " 559: '[unused554]',\n",
       " 560: '[unused555]',\n",
       " 561: '[unused556]',\n",
       " 562: '[unused557]',\n",
       " 563: '[unused558]',\n",
       " 564: '[unused559]',\n",
       " 565: '[unused560]',\n",
       " 566: '[unused561]',\n",
       " 567: '[unused562]',\n",
       " 568: '[unused563]',\n",
       " 569: '[unused564]',\n",
       " 570: '[unused565]',\n",
       " 571: '[unused566]',\n",
       " 572: '[unused567]',\n",
       " 573: '[unused568]',\n",
       " 574: '[unused569]',\n",
       " 575: '[unused570]',\n",
       " 576: '[unused571]',\n",
       " 577: '[unused572]',\n",
       " 578: '[unused573]',\n",
       " 579: '[unused574]',\n",
       " 580: '[unused575]',\n",
       " 581: '[unused576]',\n",
       " 582: '[unused577]',\n",
       " 583: '[unused578]',\n",
       " 584: '[unused579]',\n",
       " 585: '[unused580]',\n",
       " 586: '[unused581]',\n",
       " 587: '[unused582]',\n",
       " 588: '[unused583]',\n",
       " 589: '[unused584]',\n",
       " 590: '[unused585]',\n",
       " 591: '[unused586]',\n",
       " 592: '[unused587]',\n",
       " 593: '[unused588]',\n",
       " 594: '[unused589]',\n",
       " 595: '[unused590]',\n",
       " 596: '[unused591]',\n",
       " 597: '[unused592]',\n",
       " 598: '[unused593]',\n",
       " 599: '[unused594]',\n",
       " 600: '[unused595]',\n",
       " 601: '[unused596]',\n",
       " 602: '[unused597]',\n",
       " 603: '[unused598]',\n",
       " 604: '[unused599]',\n",
       " 605: '[unused600]',\n",
       " 606: '[unused601]',\n",
       " 607: '[unused602]',\n",
       " 608: '[unused603]',\n",
       " 609: '[unused604]',\n",
       " 610: '[unused605]',\n",
       " 611: '[unused606]',\n",
       " 612: '[unused607]',\n",
       " 613: '[unused608]',\n",
       " 614: '[unused609]',\n",
       " 615: '[unused610]',\n",
       " 616: '[unused611]',\n",
       " 617: '[unused612]',\n",
       " 618: '[unused613]',\n",
       " 619: '[unused614]',\n",
       " 620: '[unused615]',\n",
       " 621: '[unused616]',\n",
       " 622: '[unused617]',\n",
       " 623: '[unused618]',\n",
       " 624: '[unused619]',\n",
       " 625: '[unused620]',\n",
       " 626: '[unused621]',\n",
       " 627: '[unused622]',\n",
       " 628: '[unused623]',\n",
       " 629: '[unused624]',\n",
       " 630: '[unused625]',\n",
       " 631: '[unused626]',\n",
       " 632: '[unused627]',\n",
       " 633: '[unused628]',\n",
       " 634: '[unused629]',\n",
       " 635: '[unused630]',\n",
       " 636: '[unused631]',\n",
       " 637: '[unused632]',\n",
       " 638: '[unused633]',\n",
       " 639: '[unused634]',\n",
       " 640: '[unused635]',\n",
       " 641: '[unused636]',\n",
       " 642: '[unused637]',\n",
       " 643: '[unused638]',\n",
       " 644: '[unused639]',\n",
       " 645: '[unused640]',\n",
       " 646: '[unused641]',\n",
       " 647: '[unused642]',\n",
       " 648: '[unused643]',\n",
       " 649: '[unused644]',\n",
       " 650: '[unused645]',\n",
       " 651: '[unused646]',\n",
       " 652: '[unused647]',\n",
       " 653: '[unused648]',\n",
       " 654: '[unused649]',\n",
       " 655: '[unused650]',\n",
       " 656: '[unused651]',\n",
       " 657: '[unused652]',\n",
       " 658: '[unused653]',\n",
       " 659: '[unused654]',\n",
       " 660: '[unused655]',\n",
       " 661: '[unused656]',\n",
       " 662: '[unused657]',\n",
       " 663: '[unused658]',\n",
       " 664: '[unused659]',\n",
       " 665: '[unused660]',\n",
       " 666: '[unused661]',\n",
       " 667: '[unused662]',\n",
       " 668: '[unused663]',\n",
       " 669: '[unused664]',\n",
       " 670: '[unused665]',\n",
       " 671: '[unused666]',\n",
       " 672: '[unused667]',\n",
       " 673: '[unused668]',\n",
       " 674: '[unused669]',\n",
       " 675: '[unused670]',\n",
       " 676: '[unused671]',\n",
       " 677: '[unused672]',\n",
       " 678: '[unused673]',\n",
       " 679: '[unused674]',\n",
       " 680: '[unused675]',\n",
       " 681: '[unused676]',\n",
       " 682: '[unused677]',\n",
       " 683: '[unused678]',\n",
       " 684: '[unused679]',\n",
       " 685: '[unused680]',\n",
       " 686: '[unused681]',\n",
       " 687: '[unused682]',\n",
       " 688: '[unused683]',\n",
       " 689: '[unused684]',\n",
       " 690: '[unused685]',\n",
       " 691: '[unused686]',\n",
       " 692: '[unused687]',\n",
       " 693: '[unused688]',\n",
       " 694: '[unused689]',\n",
       " 695: '[unused690]',\n",
       " 696: '[unused691]',\n",
       " 697: '[unused692]',\n",
       " 698: '[unused693]',\n",
       " 699: '[unused694]',\n",
       " 700: '[unused695]',\n",
       " 701: '[unused696]',\n",
       " 702: '[unused697]',\n",
       " 703: '[unused698]',\n",
       " 704: '[unused699]',\n",
       " 705: '[unused700]',\n",
       " 706: '[unused701]',\n",
       " 707: '[unused702]',\n",
       " 708: '[unused703]',\n",
       " 709: '[unused704]',\n",
       " 710: '[unused705]',\n",
       " 711: '[unused706]',\n",
       " 712: '[unused707]',\n",
       " 713: '[unused708]',\n",
       " 714: '[unused709]',\n",
       " 715: '[unused710]',\n",
       " 716: '[unused711]',\n",
       " 717: '[unused712]',\n",
       " 718: '[unused713]',\n",
       " 719: '[unused714]',\n",
       " 720: '[unused715]',\n",
       " 721: '[unused716]',\n",
       " 722: '[unused717]',\n",
       " 723: '[unused718]',\n",
       " 724: '[unused719]',\n",
       " 725: '[unused720]',\n",
       " 726: '[unused721]',\n",
       " 727: '[unused722]',\n",
       " 728: '[unused723]',\n",
       " 729: '[unused724]',\n",
       " 730: '[unused725]',\n",
       " 731: '[unused726]',\n",
       " 732: '[unused727]',\n",
       " 733: '[unused728]',\n",
       " 734: '[unused729]',\n",
       " 735: '[unused730]',\n",
       " 736: '[unused731]',\n",
       " 737: '[unused732]',\n",
       " 738: '[unused733]',\n",
       " 739: '[unused734]',\n",
       " 740: '[unused735]',\n",
       " 741: '[unused736]',\n",
       " 742: '[unused737]',\n",
       " 743: '[unused738]',\n",
       " 744: '[unused739]',\n",
       " 745: '[unused740]',\n",
       " 746: '[unused741]',\n",
       " 747: '[unused742]',\n",
       " 748: '[unused743]',\n",
       " 749: '[unused744]',\n",
       " 750: '[unused745]',\n",
       " 751: '[unused746]',\n",
       " 752: '[unused747]',\n",
       " 753: '[unused748]',\n",
       " 754: '[unused749]',\n",
       " 755: '[unused750]',\n",
       " 756: '[unused751]',\n",
       " 757: '[unused752]',\n",
       " 758: '[unused753]',\n",
       " 759: '[unused754]',\n",
       " 760: '[unused755]',\n",
       " 761: '[unused756]',\n",
       " 762: '[unused757]',\n",
       " 763: '[unused758]',\n",
       " 764: '[unused759]',\n",
       " 765: '[unused760]',\n",
       " 766: '[unused761]',\n",
       " 767: '[unused762]',\n",
       " 768: '[unused763]',\n",
       " 769: '[unused764]',\n",
       " 770: '[unused765]',\n",
       " 771: '[unused766]',\n",
       " 772: '[unused767]',\n",
       " 773: '[unused768]',\n",
       " 774: '[unused769]',\n",
       " 775: '[unused770]',\n",
       " 776: '[unused771]',\n",
       " 777: '[unused772]',\n",
       " 778: '[unused773]',\n",
       " 779: '[unused774]',\n",
       " 780: '[unused775]',\n",
       " 781: '[unused776]',\n",
       " 782: '[unused777]',\n",
       " 783: '[unused778]',\n",
       " 784: '[unused779]',\n",
       " 785: '[unused780]',\n",
       " 786: '[unused781]',\n",
       " 787: '[unused782]',\n",
       " 788: '[unused783]',\n",
       " 789: '[unused784]',\n",
       " 790: '[unused785]',\n",
       " 791: '[unused786]',\n",
       " 792: '[unused787]',\n",
       " 793: '[unused788]',\n",
       " 794: '[unused789]',\n",
       " 795: '[unused790]',\n",
       " 796: '[unused791]',\n",
       " 797: '[unused792]',\n",
       " 798: '[unused793]',\n",
       " 799: '[unused794]',\n",
       " 800: '[unused795]',\n",
       " 801: '[unused796]',\n",
       " 802: '[unused797]',\n",
       " 803: '[unused798]',\n",
       " 804: '[unused799]',\n",
       " 805: '[unused800]',\n",
       " 806: '[unused801]',\n",
       " 807: '[unused802]',\n",
       " 808: '[unused803]',\n",
       " 809: '[unused804]',\n",
       " 810: '[unused805]',\n",
       " 811: '[unused806]',\n",
       " 812: '[unused807]',\n",
       " 813: '[unused808]',\n",
       " 814: '[unused809]',\n",
       " 815: '[unused810]',\n",
       " 816: '[unused811]',\n",
       " 817: '[unused812]',\n",
       " 818: '[unused813]',\n",
       " 819: '[unused814]',\n",
       " 820: '[unused815]',\n",
       " 821: '[unused816]',\n",
       " 822: '[unused817]',\n",
       " 823: '[unused818]',\n",
       " 824: '[unused819]',\n",
       " 825: '[unused820]',\n",
       " 826: '[unused821]',\n",
       " 827: '[unused822]',\n",
       " 828: '[unused823]',\n",
       " 829: '[unused824]',\n",
       " 830: '[unused825]',\n",
       " 831: '[unused826]',\n",
       " 832: '[unused827]',\n",
       " 833: '[unused828]',\n",
       " 834: '[unused829]',\n",
       " 835: '[unused830]',\n",
       " 836: '[unused831]',\n",
       " 837: '[unused832]',\n",
       " 838: '[unused833]',\n",
       " 839: '[unused834]',\n",
       " 840: '[unused835]',\n",
       " 841: '[unused836]',\n",
       " 842: '[unused837]',\n",
       " 843: '[unused838]',\n",
       " 844: '[unused839]',\n",
       " 845: '[unused840]',\n",
       " 846: '[unused841]',\n",
       " 847: '[unused842]',\n",
       " 848: '[unused843]',\n",
       " 849: '[unused844]',\n",
       " 850: '[unused845]',\n",
       " 851: '[unused846]',\n",
       " 852: '[unused847]',\n",
       " 853: '[unused848]',\n",
       " 854: '[unused849]',\n",
       " 855: '[unused850]',\n",
       " 856: '[unused851]',\n",
       " 857: '[unused852]',\n",
       " 858: '[unused853]',\n",
       " 859: '[unused854]',\n",
       " 860: '[unused855]',\n",
       " 861: '[unused856]',\n",
       " 862: '[unused857]',\n",
       " 863: '[unused858]',\n",
       " 864: '[unused859]',\n",
       " 865: '[unused860]',\n",
       " 866: '[unused861]',\n",
       " 867: '[unused862]',\n",
       " 868: '[unused863]',\n",
       " 869: '[unused864]',\n",
       " 870: '[unused865]',\n",
       " 871: '[unused866]',\n",
       " 872: '[unused867]',\n",
       " 873: '[unused868]',\n",
       " 874: '[unused869]',\n",
       " 875: '[unused870]',\n",
       " 876: '[unused871]',\n",
       " 877: '[unused872]',\n",
       " 878: '[unused873]',\n",
       " 879: '[unused874]',\n",
       " 880: '[unused875]',\n",
       " 881: '[unused876]',\n",
       " 882: '[unused877]',\n",
       " 883: '[unused878]',\n",
       " 884: '[unused879]',\n",
       " 885: '[unused880]',\n",
       " 886: '[unused881]',\n",
       " 887: '[unused882]',\n",
       " 888: '[unused883]',\n",
       " 889: '[unused884]',\n",
       " 890: '[unused885]',\n",
       " 891: '[unused886]',\n",
       " 892: '[unused887]',\n",
       " 893: '[unused888]',\n",
       " 894: '[unused889]',\n",
       " 895: '[unused890]',\n",
       " 896: '[unused891]',\n",
       " 897: '[unused892]',\n",
       " 898: '[unused893]',\n",
       " 899: '[unused894]',\n",
       " 900: '[unused895]',\n",
       " 901: '[unused896]',\n",
       " 902: '[unused897]',\n",
       " 903: '[unused898]',\n",
       " 904: '[unused899]',\n",
       " 905: '[unused900]',\n",
       " 906: '[unused901]',\n",
       " 907: '[unused902]',\n",
       " 908: '[unused903]',\n",
       " 909: '[unused904]',\n",
       " 910: '[unused905]',\n",
       " 911: '[unused906]',\n",
       " 912: '[unused907]',\n",
       " 913: '[unused908]',\n",
       " 914: '[unused909]',\n",
       " 915: '[unused910]',\n",
       " 916: '[unused911]',\n",
       " 917: '[unused912]',\n",
       " 918: '[unused913]',\n",
       " 919: '[unused914]',\n",
       " 920: '[unused915]',\n",
       " 921: '[unused916]',\n",
       " 922: '[unused917]',\n",
       " 923: '[unused918]',\n",
       " 924: '[unused919]',\n",
       " 925: '[unused920]',\n",
       " 926: '[unused921]',\n",
       " 927: '[unused922]',\n",
       " 928: '[unused923]',\n",
       " 929: '[unused924]',\n",
       " 930: '[unused925]',\n",
       " 931: '[unused926]',\n",
       " 932: '[unused927]',\n",
       " 933: '[unused928]',\n",
       " 934: '[unused929]',\n",
       " 935: '[unused930]',\n",
       " 936: '[unused931]',\n",
       " 937: '[unused932]',\n",
       " 938: '[unused933]',\n",
       " 939: '[unused934]',\n",
       " 940: '[unused935]',\n",
       " 941: '[unused936]',\n",
       " 942: '[unused937]',\n",
       " 943: '[unused938]',\n",
       " 944: '[unused939]',\n",
       " 945: '[unused940]',\n",
       " 946: '[unused941]',\n",
       " 947: '[unused942]',\n",
       " 948: '[unused943]',\n",
       " 949: '[unused944]',\n",
       " 950: '[unused945]',\n",
       " 951: '[unused946]',\n",
       " 952: '[unused947]',\n",
       " 953: '[unused948]',\n",
       " 954: '[unused949]',\n",
       " 955: '[unused950]',\n",
       " 956: '[unused951]',\n",
       " 957: '[unused952]',\n",
       " 958: '[unused953]',\n",
       " 959: '[unused954]',\n",
       " 960: '[unused955]',\n",
       " 961: '[unused956]',\n",
       " 962: '[unused957]',\n",
       " 963: '[unused958]',\n",
       " 964: '[unused959]',\n",
       " 965: '[unused960]',\n",
       " 966: '[unused961]',\n",
       " 967: '[unused962]',\n",
       " 968: '[unused963]',\n",
       " 969: '[unused964]',\n",
       " 970: '[unused965]',\n",
       " 971: '[unused966]',\n",
       " 972: '[unused967]',\n",
       " 973: '[unused968]',\n",
       " 974: '[unused969]',\n",
       " 975: '[unused970]',\n",
       " 976: '[unused971]',\n",
       " 977: '[unused972]',\n",
       " 978: '[unused973]',\n",
       " 979: '[unused974]',\n",
       " 980: '[unused975]',\n",
       " 981: '[unused976]',\n",
       " 982: '[unused977]',\n",
       " 983: '[unused978]',\n",
       " 984: '[unused979]',\n",
       " 985: '[unused980]',\n",
       " 986: '[unused981]',\n",
       " 987: '[unused982]',\n",
       " 988: '[unused983]',\n",
       " 989: '[unused984]',\n",
       " 990: '[unused985]',\n",
       " 991: '[unused986]',\n",
       " 992: '[unused987]',\n",
       " 993: '[unused988]',\n",
       " 994: '[unused989]',\n",
       " 995: '[unused990]',\n",
       " 996: '[unused991]',\n",
       " 997: '[unused992]',\n",
       " 998: '[unused993]',\n",
       " 999: '!',\n",
       " ...}"
      ]
     },
     "execution_count": 99,
     "metadata": {},
     "output_type": "execute_result"
    }
   ],
   "source": [
    "tokenizer_vocab_inverted = {v: k for k, v in tokenizer.vocab.items()}\n",
    "tokenizer_vocab_inverted"
   ]
  },
  {
   "cell_type": "markdown",
   "id": "f5b30f8d",
   "metadata": {},
   "source": [
    "You can also use tokenizer.decode([token]) but I wanted to show a use case of reversed dictionary"
   ]
  },
  {
   "cell_type": "code",
   "execution_count": 100,
   "id": "318e4651",
   "metadata": {},
   "outputs": [],
   "source": [
    "inputs = tokenizer(\"Hello, my dog is cute\", return_tensors=\"pt\")['input_ids']"
   ]
  },
  {
   "cell_type": "code",
   "execution_count": 101,
   "id": "87a9980e",
   "metadata": {},
   "outputs": [
    {
     "data": {
      "text/plain": [
       "array([  101,  7592,  1010,  2026,  3899,  2003, 10140,   102],\n",
       "      dtype=int64)"
      ]
     },
     "execution_count": 101,
     "metadata": {},
     "output_type": "execute_result"
    }
   ],
   "source": [
    "# To easily access token index you need to convert tensor to a numpy value\n",
    "inputs[0].detach().numpy()"
   ]
  },
  {
   "cell_type": "markdown",
   "id": "42536069",
   "metadata": {},
   "source": [
    "## Backengineer tokenization process|"
   ]
  },
  {
   "cell_type": "code",
   "execution_count": 102,
   "id": "1c752cbf",
   "metadata": {},
   "outputs": [],
   "source": [
    "def tokenization_words(text, tokenizer):\n",
    "    # Prepare function, which tokenizes text and then returns corresponding words\n",
    "    inputs = tokenizer(text, return_tensors=\"pt\")['input_ids']\n",
    "    # To easily access token index you need to convert tensor to a numpy value\n",
    "    inputs = inputs[0].detach().numpy()\n",
    "    token_strings = []\n",
    "    for token in inputs:\n",
    "        token_strings.append(tokenizer_vocab_inverted[token])        \n",
    "    return token_strings"
   ]
  },
  {
   "cell_type": "code",
   "execution_count": 103,
   "id": "40528301",
   "metadata": {},
   "outputs": [],
   "source": [
    "text = 'Hello, my dog is cute'"
   ]
  },
  {
   "cell_type": "code",
   "execution_count": 104,
   "id": "1f91f53c",
   "metadata": {},
   "outputs": [
    {
     "data": {
      "text/plain": [
       "['[CLS]', 'hello', ',', 'my', 'dog', 'is', 'cute', '[SEP]']"
      ]
     },
     "execution_count": 104,
     "metadata": {},
     "output_type": "execute_result"
    }
   ],
   "source": [
    "tokenization_words(text, tokenizer)"
   ]
  },
  {
   "cell_type": "code",
   "execution_count": 105,
   "id": "16f6d5b5",
   "metadata": {},
   "outputs": [],
   "source": [
    "text2 = \"I misspelled my dog while at the vet\""
   ]
  },
  {
   "cell_type": "code",
   "execution_count": 106,
   "id": "85308a7a",
   "metadata": {},
   "outputs": [
    {
     "data": {
      "text/plain": [
       "['[CLS]',\n",
       " 'i',\n",
       " 'miss',\n",
       " '##pel',\n",
       " '##led',\n",
       " 'my',\n",
       " 'dog',\n",
       " 'while',\n",
       " 'at',\n",
       " 'the',\n",
       " 'vet',\n",
       " '[SEP]']"
      ]
     },
     "execution_count": 106,
     "metadata": {},
     "output_type": "execute_result"
    }
   ],
   "source": [
    "tokenization_words(text2, tokenizer)"
   ]
  },
  {
   "cell_type": "markdown",
   "id": "626c14ff",
   "metadata": {},
   "source": [
    "## Experiment with tokenizing a few sentences"
   ]
  },
  {
   "cell_type": "markdown",
   "id": "24193919",
   "metadata": {},
   "source": [
    "- Find a word, which is is tokenized only as syllables\n",
    "- Find 5 words, which are tokenized as 2+ tokens, do you see any pattern here?"
   ]
  },
  {
   "cell_type": "code",
   "execution_count": 107,
   "id": "5b9aa067",
   "metadata": {},
   "outputs": [
    {
     "data": {
      "text/plain": [
       "['[CLS]', 'i', \"'\", 'm', 'going', 'to', 'the', 'gym', '[SEP]']"
      ]
     },
     "execution_count": 107,
     "metadata": {},
     "output_type": "execute_result"
    }
   ],
   "source": [
    "# find a word which is tokenized only as syllables\n",
    "text3 = \"I'm going to the gym\"\n",
    "\n",
    "tokenization_words(text3, tokenizer)"
   ]
  },
  {
   "cell_type": "code",
   "execution_count": 108,
   "id": "34852920",
   "metadata": {},
   "outputs": [],
   "source": [
    "# find 5 words which are tokenized as 2+ tokens\n",
    "text4 = \"I'm going to the gym and I'm going to the gym and I'm going to the gym and I'm going to the gym and I'm going to the gym\""
   ]
  },
  {
   "cell_type": "markdown",
   "id": "26e124de",
   "metadata": {},
   "source": [
    "# Word vectorization"
   ]
  },
  {
   "cell_type": "code",
   "execution_count": 109,
   "id": "018e94d6",
   "metadata": {},
   "outputs": [],
   "source": [
    "word_embeddings = pickle.load(open( \"../data/word_embeddings_subset.p\", \"rb\" ) )"
   ]
  },
  {
   "cell_type": "markdown",
   "id": "02c591c9",
   "metadata": {},
   "source": [
    "Check how many word embeddings are present in our sample"
   ]
  },
  {
   "cell_type": "code",
   "execution_count": 110,
   "id": "da0f6d9d",
   "metadata": {},
   "outputs": [
    {
     "data": {
      "text/plain": [
       "243"
      ]
     },
     "execution_count": 110,
     "metadata": {},
     "output_type": "execute_result"
    }
   ],
   "source": [
    "len(word_embeddings.keys() )"
   ]
  },
  {
   "cell_type": "markdown",
   "id": "cf7ab9ef",
   "metadata": {},
   "source": [
    "What is the vectors dimension?"
   ]
  },
  {
   "cell_type": "code",
   "execution_count": 111,
   "id": "c09d5895",
   "metadata": {},
   "outputs": [
    {
     "data": {
      "text/plain": [
       "(300,)"
      ]
     },
     "execution_count": 111,
     "metadata": {},
     "output_type": "execute_result"
    }
   ],
   "source": [
    "word_embeddings[\"Poland\"].shape"
   ]
  },
  {
   "cell_type": "markdown",
   "id": "3a30557b",
   "metadata": {},
   "source": [
    "## Dimensionality reduction - TSNE "
   ]
  },
  {
   "cell_type": "markdown",
   "id": "b92d8098",
   "metadata": {},
   "source": [
    "We would like to see these vectors in 3D Space, let's experiment with TSNE."
   ]
  },
  {
   "cell_type": "markdown",
   "id": "68237858",
   "metadata": {},
   "source": [
    "- First we need to create an array containing all vectors\n",
    "- Then reduce dimensionality with TSNE\n",
    "- And proceed to visualization"
   ]
  },
  {
   "cell_type": "code",
   "execution_count": 112,
   "id": "4e6897f7",
   "metadata": {},
   "outputs": [],
   "source": [
    "# Convert embedding values to an array\n",
    "X = np.array(list(word_embeddings.values()))"
   ]
  },
  {
   "cell_type": "code",
   "execution_count": 113,
   "id": "c53c140d",
   "metadata": {},
   "outputs": [
    {
     "name": "stderr",
     "output_type": "stream",
     "text": [
      "c:\\Users\\mklos\\AppData\\Local\\Programs\\Python\\Python39\\lib\\site-packages\\sklearn\\manifold\\_t_sne.py:800: FutureWarning:\n",
      "\n",
      "The default initialization in TSNE will change from 'random' to 'pca' in 1.2.\n",
      "\n",
      "c:\\Users\\mklos\\AppData\\Local\\Programs\\Python\\Python39\\lib\\site-packages\\sklearn\\manifold\\_t_sne.py:810: FutureWarning:\n",
      "\n",
      "The default learning rate in TSNE will change from 200.0 to 'auto' in 1.2.\n",
      "\n"
     ]
    }
   ],
   "source": [
    "## Use sklearn documentation to use TSNE and create X_red with only 3 dimensions\n",
    "X_red = TSNE(n_components=3).fit_transform(X)"
   ]
  },
  {
   "cell_type": "code",
   "execution_count": 114,
   "id": "88675e93",
   "metadata": {},
   "outputs": [
    {
     "data": {
      "text/plain": [
       "(243, 3)"
      ]
     },
     "execution_count": 114,
     "metadata": {},
     "output_type": "execute_result"
    }
   ],
   "source": [
    "X_red.shape"
   ]
  },
  {
   "cell_type": "markdown",
   "id": "0ada7ca8",
   "metadata": {},
   "source": [
    "Create df_vec contatinig x,y,z cols from X_red and label column from word_embeddings \n",
    "key corresponding to each vector"
   ]
  },
  {
   "cell_type": "code",
   "execution_count": 115,
   "id": "5895956e",
   "metadata": {},
   "outputs": [],
   "source": [
    "df_vec = pd.DataFrame(X_red, columns=[\"x\", \"y\", \"z\"])\n",
    "df_vec[\"label\"] = list(word_embeddings.keys())"
   ]
  },
  {
   "cell_type": "code",
   "execution_count": 116,
   "id": "23f0c9e3",
   "metadata": {},
   "outputs": [
    {
     "data": {
      "text/html": [
       "<div>\n",
       "<style scoped>\n",
       "    .dataframe tbody tr th:only-of-type {\n",
       "        vertical-align: middle;\n",
       "    }\n",
       "\n",
       "    .dataframe tbody tr th {\n",
       "        vertical-align: top;\n",
       "    }\n",
       "\n",
       "    .dataframe thead th {\n",
       "        text-align: right;\n",
       "    }\n",
       "</style>\n",
       "<table border=\"1\" class=\"dataframe\">\n",
       "  <thead>\n",
       "    <tr style=\"text-align: right;\">\n",
       "      <th></th>\n",
       "      <th>x</th>\n",
       "      <th>y</th>\n",
       "      <th>z</th>\n",
       "    </tr>\n",
       "  </thead>\n",
       "  <tbody>\n",
       "    <tr>\n",
       "      <th>count</th>\n",
       "      <td>243.000000</td>\n",
       "      <td>243.000000</td>\n",
       "      <td>243.000000</td>\n",
       "    </tr>\n",
       "    <tr>\n",
       "      <th>mean</th>\n",
       "      <td>1.453487</td>\n",
       "      <td>0.398368</td>\n",
       "      <td>2.953462</td>\n",
       "    </tr>\n",
       "    <tr>\n",
       "      <th>std</th>\n",
       "      <td>80.681328</td>\n",
       "      <td>76.183403</td>\n",
       "      <td>79.885040</td>\n",
       "    </tr>\n",
       "    <tr>\n",
       "      <th>min</th>\n",
       "      <td>-179.722076</td>\n",
       "      <td>-176.132294</td>\n",
       "      <td>-219.288666</td>\n",
       "    </tr>\n",
       "    <tr>\n",
       "      <th>25%</th>\n",
       "      <td>-60.668325</td>\n",
       "      <td>-56.491772</td>\n",
       "      <td>-56.454943</td>\n",
       "    </tr>\n",
       "    <tr>\n",
       "      <th>50%</th>\n",
       "      <td>-0.511608</td>\n",
       "      <td>2.805398</td>\n",
       "      <td>6.262187</td>\n",
       "    </tr>\n",
       "    <tr>\n",
       "      <th>75%</th>\n",
       "      <td>65.944195</td>\n",
       "      <td>53.766659</td>\n",
       "      <td>64.209078</td>\n",
       "    </tr>\n",
       "    <tr>\n",
       "      <th>max</th>\n",
       "      <td>180.603394</td>\n",
       "      <td>210.655243</td>\n",
       "      <td>209.873138</td>\n",
       "    </tr>\n",
       "  </tbody>\n",
       "</table>\n",
       "</div>"
      ],
      "text/plain": [
       "                x           y           z\n",
       "count  243.000000  243.000000  243.000000\n",
       "mean     1.453487    0.398368    2.953462\n",
       "std     80.681328   76.183403   79.885040\n",
       "min   -179.722076 -176.132294 -219.288666\n",
       "25%    -60.668325  -56.491772  -56.454943\n",
       "50%     -0.511608    2.805398    6.262187\n",
       "75%     65.944195   53.766659   64.209078\n",
       "max    180.603394  210.655243  209.873138"
      ]
     },
     "execution_count": 116,
     "metadata": {},
     "output_type": "execute_result"
    }
   ],
   "source": [
    "df_vec.describe()"
   ]
  },
  {
   "cell_type": "code",
   "execution_count": 118,
   "id": "5245c449",
   "metadata": {},
   "outputs": [
    {
     "data": {
      "text/html": [
       "<div>\n",
       "<style scoped>\n",
       "    .dataframe tbody tr th:only-of-type {\n",
       "        vertical-align: middle;\n",
       "    }\n",
       "\n",
       "    .dataframe tbody tr th {\n",
       "        vertical-align: top;\n",
       "    }\n",
       "\n",
       "    .dataframe thead th {\n",
       "        text-align: right;\n",
       "    }\n",
       "</style>\n",
       "<table border=\"1\" class=\"dataframe\">\n",
       "  <thead>\n",
       "    <tr style=\"text-align: right;\">\n",
       "      <th></th>\n",
       "      <th>x</th>\n",
       "      <th>y</th>\n",
       "      <th>z</th>\n",
       "      <th>label</th>\n",
       "    </tr>\n",
       "  </thead>\n",
       "  <tbody>\n",
       "    <tr>\n",
       "      <th>0</th>\n",
       "      <td>23.170794</td>\n",
       "      <td>-72.723221</td>\n",
       "      <td>-16.859102</td>\n",
       "      <td>country</td>\n",
       "    </tr>\n",
       "    <tr>\n",
       "      <th>1</th>\n",
       "      <td>47.041634</td>\n",
       "      <td>-42.537167</td>\n",
       "      <td>-62.741261</td>\n",
       "      <td>city</td>\n",
       "    </tr>\n",
       "    <tr>\n",
       "      <th>2</th>\n",
       "      <td>-44.388664</td>\n",
       "      <td>55.519707</td>\n",
       "      <td>52.716415</td>\n",
       "      <td>China</td>\n",
       "    </tr>\n",
       "    <tr>\n",
       "      <th>3</th>\n",
       "      <td>-109.540710</td>\n",
       "      <td>-34.910995</td>\n",
       "      <td>6.262187</td>\n",
       "      <td>Iraq</td>\n",
       "    </tr>\n",
       "    <tr>\n",
       "      <th>4</th>\n",
       "      <td>117.644707</td>\n",
       "      <td>-2.166332</td>\n",
       "      <td>-219.288666</td>\n",
       "      <td>oil</td>\n",
       "    </tr>\n",
       "    <tr>\n",
       "      <th>...</th>\n",
       "      <td>...</td>\n",
       "      <td>...</td>\n",
       "      <td>...</td>\n",
       "      <td>...</td>\n",
       "    </tr>\n",
       "    <tr>\n",
       "      <th>238</th>\n",
       "      <td>44.178104</td>\n",
       "      <td>149.039810</td>\n",
       "      <td>82.158379</td>\n",
       "      <td>Belmopan</td>\n",
       "    </tr>\n",
       "    <tr>\n",
       "      <th>239</th>\n",
       "      <td>-2.589705</td>\n",
       "      <td>-13.427938</td>\n",
       "      <td>-135.881256</td>\n",
       "      <td>Vaduz</td>\n",
       "    </tr>\n",
       "    <tr>\n",
       "      <th>240</th>\n",
       "      <td>108.017075</td>\n",
       "      <td>77.422714</td>\n",
       "      <td>-86.838181</td>\n",
       "      <td>Paramaribo</td>\n",
       "    </tr>\n",
       "    <tr>\n",
       "      <th>241</th>\n",
       "      <td>14.591696</td>\n",
       "      <td>-142.675858</td>\n",
       "      <td>-85.018692</td>\n",
       "      <td>Nuuk</td>\n",
       "    </tr>\n",
       "    <tr>\n",
       "      <th>242</th>\n",
       "      <td>-69.902031</td>\n",
       "      <td>-2.521883</td>\n",
       "      <td>135.456161</td>\n",
       "      <td>Funafuti</td>\n",
       "    </tr>\n",
       "  </tbody>\n",
       "</table>\n",
       "<p>243 rows × 4 columns</p>\n",
       "</div>"
      ],
      "text/plain": [
       "              x           y           z       label\n",
       "0     23.170794  -72.723221  -16.859102     country\n",
       "1     47.041634  -42.537167  -62.741261        city\n",
       "2    -44.388664   55.519707   52.716415       China\n",
       "3   -109.540710  -34.910995    6.262187        Iraq\n",
       "4    117.644707   -2.166332 -219.288666         oil\n",
       "..          ...         ...         ...         ...\n",
       "238   44.178104  149.039810   82.158379    Belmopan\n",
       "239   -2.589705  -13.427938 -135.881256       Vaduz\n",
       "240  108.017075   77.422714  -86.838181  Paramaribo\n",
       "241   14.591696 -142.675858  -85.018692        Nuuk\n",
       "242  -69.902031   -2.521883  135.456161    Funafuti\n",
       "\n",
       "[243 rows x 4 columns]"
      ]
     },
     "execution_count": 118,
     "metadata": {},
     "output_type": "execute_result"
    }
   ],
   "source": [
    "df_vec"
   ]
  },
  {
   "cell_type": "markdown",
   "id": "900d3a0b",
   "metadata": {},
   "source": [
    "Use provided wireframe to create a 3D plot"
   ]
  },
  {
   "cell_type": "code",
   "execution_count": 119,
   "id": "465bf394",
   "metadata": {
    "scrolled": false
   },
   "outputs": [
    {
     "data": {
      "application/vnd.plotly.v1+json": {
       "config": {
        "linkText": "Export to plot.ly",
        "plotlyServerURL": "https://plot.ly",
        "showLink": false
       },
       "data": [
        {
         "mode": "markers",
         "text": [
          "country",
          "city",
          "China",
          "Iraq",
          "oil",
          "town",
          "Canada",
          "London",
          "England",
          "Australia",
          "Japan",
          "Pakistan",
          "Iran",
          "gas",
          "happy",
          "Russia",
          "Afghanistan",
          "France",
          "Germany",
          "Georgia",
          "Baghdad",
          "village",
          "Spain",
          "Italy",
          "Beijing",
          "Jordan",
          "Paris",
          "Ireland",
          "Turkey",
          "Egypt",
          "Lebanon",
          "Taiwan",
          "Tokyo",
          "Nigeria",
          "Vietnam",
          "Moscow",
          "Greece",
          "Indonesia",
          "sad",
          "Syria",
          "Thailand",
          "Libya",
          "Zimbabwe",
          "Cuba",
          "Ottawa",
          "Tehran",
          "Sudan",
          "Kenya",
          "Philippines",
          "Sweden",
          "Poland",
          "Ukraine",
          "Rome",
          "Venezuela",
          "Switzerland",
          "Berlin",
          "Bangladesh",
          "Portugal",
          "Ghana",
          "Athens",
          "king",
          "Madrid",
          "Somalia",
          "Dublin",
          "Qatar",
          "Chile",
          "Islamabad",
          "Bahrain",
          "Nepal",
          "Norway",
          "Serbia",
          "Kabul",
          "continent",
          "Brussels",
          "Belgium",
          "Uganda",
          "petroleum",
          "Cairo",
          "Denmark",
          "Austria",
          "Jamaica",
          "Georgetown",
          "Bangkok",
          "Finland",
          "Peru",
          "Romania",
          "Bulgaria",
          "Hungary",
          "Vienna",
          "Kingston",
          "Manila",
          "Cyprus",
          "Azerbaijan",
          "Copenhagen",
          "Fiji",
          "Tunisia",
          "Kazakhstan",
          "queen",
          "Beirut",
          "Jakarta",
          "Croatia",
          "Belarus",
          "Algeria",
          "Malta",
          "Morocco",
          "Rwanda",
          "Bahamas",
          "Damascus",
          "Ecuador",
          "Angola",
          "Canberra",
          "Liberia",
          "Honduras",
          "Tripoli",
          "Slovakia",
          "Doha",
          "Armenia",
          "Taipei",
          "Oman",
          "Nairobi",
          "Santiago",
          "Guinea",
          "Uruguay",
          "Stockholm",
          "Slovenia",
          "Zambia",
          "Havana",
          "Uzbekistan",
          "Belgrade",
          "Mogadishu",
          "Khartoum",
          "Botswana",
          "Kyrgyzstan",
          "Dhaka",
          "Namibia",
          "Ankara",
          "Abuja",
          "Lima",
          "Harare",
          "Warsaw",
          "Malawi",
          "Lisbon",
          "Latvia",
          "Niger",
          "Lithuania",
          "Estonia",
          "Samoa",
          "Oslo",
          "Nicaragua",
          "Hanoi",
          "Sofia",
          "Macedonia",
          "Senegal",
          "Mozambique",
          "Guyana",
          "Mali",
          "Accra",
          "Kathmandu",
          "Tbilisi",
          "Helsinki",
          "Montenegro",
          "Caracas",
          "Laos",
          "Budapest",
          "Kiev",
          "Turkmenistan",
          "Eritrea",
          "Albania",
          "Madagascar",
          "Nassau",
          "Kampala",
          "Amman",
          "Greenland",
          "Belize",
          "Moldova",
          "Burundi",
          "Tajikistan",
          "Baku",
          "Astana",
          "Gambia",
          "Bucharest",
          "joyful",
          "Monrovia",
          "Mauritania",
          "Algiers",
          "Muscat",
          "Bern",
          "Luanda",
          "Dakar",
          "Tunis",
          "Gabon",
          "Minsk",
          "Liechtenstein",
          "Suva",
          "Yerevan",
          "Zagreb",
          "Bishkek",
          "Manama",
          "Kigali",
          "Riga",
          "Lusaka",
          "Tashkent",
          "Nicosia",
          "Valletta",
          "Windhoek",
          "Dominica",
          "Quito",
          "Tallinn",
          "Bratislava",
          "Tegucigalpa",
          "Skopje",
          "Gaborone",
          "Rabat",
          "Maputo",
          "Suriname",
          "Vilnius",
          "Montevideo",
          "Ljubljana",
          "Tirana",
          "Dushanbe",
          "Ashgabat",
          "Asmara",
          "Tuvalu",
          "Managua",
          "Conakry",
          "Banjul",
          "Bamako",
          "Lilongwe",
          "Vientiane",
          "Chisinau",
          "Roseau",
          "Nouakchott",
          "Podgorica",
          "Niamey",
          "Bujumbura",
          "Apia",
          "Antananarivo",
          "Libreville",
          "Belmopan",
          "Vaduz",
          "Paramaribo",
          "Nuuk",
          "Funafuti"
         ],
         "type": "scatter3d",
         "x": [
          23.170793533325195,
          47.04163360595703,
          -44.38866424560547,
          -109.54071044921875,
          117.64470672607422,
          -23.357606887817383,
          40.93143081665039,
          -35.3056526184082,
          0.6015762686729431,
          90.84705352783203,
          -57.64137268066406,
          82.32168579101562,
          131.96298217773438,
          11.127686500549316,
          -74.69293975830078,
          -44.50223159790039,
          -120.52075958251953,
          39.43877029418945,
          9.873456954956055,
          -52.69282150268555,
          17.672698974609375,
          -32.593231201171875,
          58.12492370605469,
          12.063749313354492,
          -37.98970413208008,
          -82.92324829101562,
          -37.341339111328125,
          30.646991729736328,
          -56.090641021728516,
          -151.4357147216797,
          -125.42037200927734,
          -58.92566680908203,
          -70.10070037841797,
          93.76434326171875,
          -47.35411834716797,
          -39.32434844970703,
          -74.15460968017578,
          -66.32560729980469,
          -77.84432983398438,
          91.68319702148438,
          83.30697631835938,
          134.08851623535156,
          145.60552978515625,
          57.53727340698242,
          -52.273826599121094,
          66.3659896850586,
          25.578428268432617,
          127.9788818359375,
          99.75420379638672,
          125.9734878540039,
          -15.217299461364746,
          120.06720733642578,
          1.2796462774276733,
          38.23701858520508,
          -0.13245999813079834,
          -13.088020324707031,
          83.57923126220703,
          170.38632202148438,
          -140.80067443847656,
          -131.6657257080078,
          -8.493240356445312,
          -34.37378692626953,
          -10.6708402633667,
          24.784799575805664,
          -5.712425708770752,
          -17.644596099853516,
          -101.45892333984375,
          33.2768669128418,
          -2.6957783699035645,
          -0.817940354347229,
          -79.09148406982422,
          38.00559616088867,
          29.609230041503906,
          -33.759178161621094,
          154.78514099121094,
          -132.2830047607422,
          33.09503173828125,
          1.7285043001174927,
          -2.6622419357299805,
          -18.106050491333008,
          28.658872604370117,
          -46.14229965209961,
          -94.81441497802734,
          21.55347442626953,
          5.190675735473633,
          -96.76759338378906,
          -83.2401351928711,
          -117.2930679321289,
          11.802764892578125,
          -16.663875579833984,
          -37.42030715942383,
          -89.33749389648438,
          25.172346115112305,
          -79.85374450683594,
          9.548715591430664,
          -18.221858978271484,
          -149.4333038330078,
          -31.929271697998047,
          85.59111022949219,
          -83.81392669677734,
          -57.8153190612793,
          -156.16717529296875,
          -32.85250473022461,
          151.76589965820312,
          -140.455078125,
          42.63329315185547,
          31.03095054626465,
          78.40929412841797,
          -3.231196880340576,
          67.18673706054688,
          -11.926072120666504,
          16.262784957885742,
          16.052261352539062,
          35.659027099609375,
          -44.943634033203125,
          -15.769423484802246,
          -83.16913604736328,
          -28.918975830078125,
          80.31999206542969,
          75.18480682373047,
          -179.72207641601562,
          97.37796020507812,
          14.342615127563477,
          73.38892364501953,
          -35.82207107543945,
          -110.09444427490234,
          65.52239990234375,
          -133.92568969726562,
          -4.212563514709473,
          73.76760864257812,
          55.59009552001953,
          88.60718536376953,
          -139.18643188476562,
          65.18540954589844,
          87.0125503540039,
          -49.471492767333984,
          116.36572265625,
          -0.511608362197876,
          -77.11580657958984,
          -21.512649536132812,
          114.91050720214844,
          -3.3953561782836914,
          18.72923469543457,
          124.8590087890625,
          -9.367368698120117,
          -63.329978942871094,
          4.6375932693481445,
          -68.97822570800781,
          19.783498764038086,
          -63.922767639160156,
          -87.1761474609375,
          -91.59890747070312,
          74.83395385742188,
          119.16622924804688,
          -34.76604080200195,
          62.395896911621094,
          86.4981460571289,
          61.768310546875,
          -87.58299255371094,
          -19.002063751220703,
          -61.801021575927734,
          -97.50511169433594,
          -23.698766708374023,
          144.89952087402344,
          -70.33352661132812,
          -141.99249267578125,
          41.149906158447266,
          -96.9891586303711,
          143.33187866210938,
          -0.48892903327941895,
          90.40838623046875,
          -99.89102172851562,
          -6.184743404388428,
          32.33776092529297,
          -118.2913589477539,
          48.233882904052734,
          70.75017547607422,
          111.85851287841797,
          -101.34988403320312,
          114.51644897460938,
          -46.90318298339844,
          -48.10149002075195,
          36.08600997924805,
          112.3948745727539,
          124.18646240234375,
          -42.885005950927734,
          -91.20016479492188,
          111.2514877319336,
          84.82393646240234,
          -1.6962381601333618,
          -0.3418550491333008,
          -113.91031646728516,
          19.481388092041016,
          28.441709518432617,
          -52.76106262207031,
          119.72247314453125,
          -135.1900177001953,
          -79.5499496459961,
          3.0795464515686035,
          -79.3166732788086,
          -88.00703430175781,
          -132.38101196289062,
          -98.37065124511719,
          72.76184844970703,
          64.89336395263672,
          52.805999755859375,
          38.07176208496094,
          -67.34196472167969,
          -49.982181549072266,
          58.800453186035156,
          -109.82856750488281,
          99.6259994506836,
          96.86894226074219,
          102.01898956298828,
          49.86128234863281,
          -37.43403625488281,
          16.476415634155273,
          -59.53562927246094,
          -137.7606658935547,
          110.51384735107422,
          -110.5264663696289,
          54.080875396728516,
          -92.35935974121094,
          70.99662017822266,
          -116.41204071044922,
          139.50457763671875,
          79.58100128173828,
          79.74581909179688,
          -51.270267486572266,
          -83.39958190917969,
          -15.295543670654297,
          118.11852264404297,
          180.6033935546875,
          110.43620300292969,
          131.29185485839844,
          -25.92142677307129,
          155.95703125,
          146.72262573242188,
          44.178104400634766,
          -2.589705467224121,
          108.01707458496094,
          14.591695785522461,
          -69.90203094482422
         ],
         "y": [
          -72.72322082519531,
          -42.537166595458984,
          55.51970672607422,
          -34.91099548339844,
          -2.1663315296173096,
          36.36051940917969,
          2.9003782272338867,
          -42.16945266723633,
          -45.71503829956055,
          13.611125946044922,
          121.24931335449219,
          23.657861709594727,
          6.772675037384033,
          -161.52513122558594,
          -132.64183044433594,
          -5.908114910125732,
          -38.92265319824219,
          -32.68757629394531,
          -28.208890914916992,
          117.32820129394531,
          132.01058959960938,
          -80.89041137695312,
          -61.56924819946289,
          -9.839225769042969,
          56.83826446533203,
          -81.25536346435547,
          40.83364486694336,
          -61.45981979370117,
          67.17227935791016,
          51.075016021728516,
          -71.09502410888672,
          68.15583038330078,
          126.4339599609375,
          -114.75245666503906,
          106.65193176269531,
          -176.13229370117188,
          20.491437911987305,
          17.226848602294922,
          -131.49835205078125,
          10.197314262390137,
          210.65524291992188,
          8.932317733764648,
          -25.19791030883789,
          49.69966506958008,
          -48.23312759399414,
          97.59999084472656,
          131.04571533203125,
          -61.73183822631836,
          -41.62834167480469,
          49.902320861816406,
          -8.93831729888916,
          99.20089721679688,
          14.401835441589355,
          25.082292556762695,
          -61.06681442260742,
          40.5088005065918,
          -5.652346611022949,
          21.22291374206543,
          35.668052673339844,
          96.50550842285156,
          -124.45743560791016,
          -6.655290603637695,
          -31.2052001953125,
          -26.884929656982422,
          98.01997375488281,
          15.602789878845215,
          72.39066314697266,
          88.35897064208984,
          135.8397979736328,
          86.65724182128906,
          -60.4097785949707,
          67.87275695800781,
          -93.9601058959961,
          62.46770095825195,
          -6.221194744110107,
          -7.646615028381348,
          -164.5508575439453,
          -73.49305725097656,
          -89.11822509765625,
          -38.74628448486328,
          -23.032289505004883,
          -62.67664337158203,
          73.6833724975586,
          -77.07463836669922,
          19.317760467529297,
          80.9236831665039,
          -10.613525390625,
          16.81757926940918,
          41.420806884765625,
          -55.22791290283203,
          161.47003173828125,
          52.23777770996094,
          56.91602325439453,
          -77.18238067626953,
          41.794952392578125,
          -126.58889770507812,
          -9.232528686523438,
          -130.966064453125,
          5.600156784057617,
          39.206703186035156,
          25.481412887573242,
          25.338220596313477,
          -101.22928619384766,
          -92.67986297607422,
          76.37592315673828,
          -3.494755268096924,
          4.395170211791992,
          32.78510665893555,
          46.2841911315918,
          29.924163818359375,
          18.316604614257812,
          165.35299682617188,
          67.98699188232422,
          -86.76725006103516,
          -36.34738540649414,
          90.5124740600586,
          57.75408172607422,
          -40.837928771972656,
          -153.1860809326172,
          -85.82728576660156,
          -62.30226516723633,
          -50.76289367675781,
          49.32676315307617,
          146.04769897460938,
          -68.22328186035156,
          13.473868370056152,
          74.21400451660156,
          5.215776443481445,
          90.27008056640625,
          96.51383972167969,
          58.827880859375,
          -60.919227600097656,
          -65.79573059082031,
          -13.088263511657715,
          -33.34284973144531,
          77.43749237060547,
          -122.09573364257812,
          86.22150421142578,
          -17.768184661865234,
          17.70734977722168,
          -33.422401428222656,
          -5.027548789978027,
          -95.601806640625,
          -93.22805786132812,
          -40.78495407104492,
          17.352375030517578,
          12.47532844543457,
          -43.45931625366211,
          46.729000091552734,
          91.90279388427734,
          -22.20408821105957,
          26.1049861907959,
          -32.1136474609375,
          -27.034765243530273,
          -15.137785911560059,
          -50.75652313232422,
          68.80290222167969,
          43.281822204589844,
          11.243416786193848,
          42.91859817504883,
          -97.70681762695312,
          -28.612199783325195,
          104.11556243896484,
          103.39585876464844,
          46.884281158447266,
          43.419132232666016,
          111.01864624023438,
          0.8873224854469299,
          -51.54261016845703,
          -25.338321685791016,
          -131.26048278808594,
          124.86597442626953,
          -115.61387634277344,
          -57.75563049316406,
          49.260040283203125,
          24.640005111694336,
          10.976115226745605,
          128.08262634277344,
          101.73394775390625,
          -73.18921661376953,
          -46.36909103393555,
          -145.25241088867188,
          -118.72987365722656,
          -23.602352142333984,
          25.10321807861328,
          -95.49829864501953,
          -126.57563018798828,
          74.34373474121094,
          1.837314486503601,
          -98.07609558105469,
          -169.50103759765625,
          -51.781776428222656,
          -6.374974250793457,
          27.601072311401367,
          4.093790531158447,
          109.64315795898438,
          -67.96194458007812,
          -70.7182846069336,
          24.701505661010742,
          -64.66925811767578,
          -85.6819839477539,
          -30.798376083374023,
          79.94396209716797,
          -75.37743377685547,
          -100.85221099853516,
          -13.177497863769531,
          88.04129791259766,
          -90.34862518310547,
          -32.7397575378418,
          136.43357849121094,
          2.485954999923706,
          -104.37808227539062,
          4.003783226013184,
          57.513397216796875,
          -137.66390991210938,
          162.2633056640625,
          109.34822082519531,
          1.5914512872695923,
          -18.101150512695312,
          -32.58818435668945,
          49.95623016357422,
          92.53765106201172,
          19.34062957763672,
          104.98479461669922,
          -117.59738159179688,
          -81.4952392578125,
          -87.20914459228516,
          -92.79180908203125,
          89.17176055908203,
          -29.665870666503906,
          122.24597930908203,
          14.612539291381836,
          2.8053975105285645,
          50.20880126953125,
          38.936458587646484,
          10.919512748718262,
          55.29553985595703,
          58.674373626708984,
          149.03981018066406,
          -13.427938461303711,
          77.42271423339844,
          -142.6758575439453,
          -2.521883010864258
         ],
         "z": [
          -16.859102249145508,
          -62.74126052856445,
          52.71641540527344,
          6.262187480926514,
          -219.28866577148438,
          -14.13172721862793,
          -54.127750396728516,
          15.971698760986328,
          6.550323963165283,
          145.34912109375,
          -10.84896183013916,
          -137.75704956054688,
          -56.233158111572266,
          39.57444763183594,
          33.80123519897461,
          -42.50959396362305,
          29.912769317626953,
          -17.77072525024414,
          -44.870216369628906,
          -72.31436920166016,
          -90.38089752197266,
          -20.445411682128906,
          128.55694580078125,
          -13.88050651550293,
          78.473876953125,
          71.79582214355469,
          151.67446899414062,
          33.66014099121094,
          -44.741607666015625,
          7.846498966217041,
          62.402000427246094,
          28.886247634887695,
          14.685412406921387,
          -64.32328033447266,
          66.37899017333984,
          -59.2475471496582,
          13.254034042358398,
          82.69376373291016,
          61.06585693359375,
          -31.647897720336914,
          27.726577758789062,
          -101.5695571899414,
          -4.374892711639404,
          -5.780484199523926,
          102.16032409667969,
          -98.54257202148438,
          -11.683408737182617,
          6.300954818725586,
          -88.88807678222656,
          -47.13520431518555,
          -70.96824645996094,
          -41.3004035949707,
          -38.0265998840332,
          3.862600326538086,
          -50.67005920410156,
          -64.7886962890625,
          -137.46730041503906,
          -7.99948787689209,
          75.59962463378906,
          30.808021545410156,
          -14.83331298828125,
          0.02082110196352005,
          108.80014038085938,
          84.30873107910156,
          -126.39529418945312,
          33.968360900878906,
          59.94305419921875,
          101.81094360351562,
          109.212158203125,
          135.7190704345703,
          -57.220794677734375,
          -125.24676513671875,
          -31.7469539642334,
          -94.08766174316406,
          88.51204681396484,
          72.9871826171875,
          14.178462982177734,
          88.99299621582031,
          13.23222827911377,
          -36.51467514038086,
          38.98699188232422,
          66.54336547851562,
          115.47257995605469,
          -86.36651611328125,
          16.782381057739258,
          -40.473175048828125,
          -56.676727294921875,
          5.340385437011719,
          -87.25006103515625,
          48.64728546142578,
          20.831340789794922,
          -5.422428131103516,
          162.07008361816406,
          -12.120871543884277,
          109.4107666015625,
          94.08859252929688,
          -26.875171661376953,
          -6.5785722732543945,
          -71.72897338867188,
          95.83409881591797,
          -31.234203338623047,
          -39.59938430786133,
          118.05517578125,
          -12.405613899230957,
          -16.507667541503906,
          153.35011291503906,
          55.45421600341797,
          -47.82255935668945,
          23.23407745361328,
          34.62748718261719,
          81.07892608642578,
          22.213594436645508,
          11.287559509277344,
          76.12901306152344,
          -67.96075439453125,
          35.86412811279297,
          -72.83537292480469,
          151.6197509765625,
          2.074596405029297,
          -98.6198959350586,
          8.139573097229004,
          57.386558532714844,
          54.68593978881836,
          35.752593994140625,
          -74.75399017333984,
          56.308467864990234,
          -18.40087890625,
          -63.66779327392578,
          -73.50069427490234,
          70.31190490722656,
          69.6910629272461,
          9.322726249694824,
          -20.838525772094727,
          -114.556640625,
          -3.2371838092803955,
          -17.481212615966797,
          -37.02060317993164,
          -26.633272171020508,
          46.565521240234375,
          -94.87435150146484,
          -33.79556655883789,
          172.1218719482422,
          132.52899169921875,
          79.943603515625,
          -93.83561706542969,
          -77.26879119873047,
          122.36173248291016,
          -13.962698936462402,
          -11.987853050231934,
          95.30645751953125,
          -95.52381896972656,
          -44.16090393066406,
          91.83084106445312,
          32.48391342163086,
          59.23059844970703,
          72.81888580322266,
          117.0718994140625,
          -93.31573486328125,
          -163.8799285888672,
          -139.59913635253906,
          -60.010223388671875,
          98.62577056884766,
          89.17328643798828,
          138.7200164794922,
          -138.52899169921875,
          -88.32500457763672,
          14.150012016296387,
          -25.153236389160156,
          66.46831512451172,
          52.45998001098633,
          49.0160026550293,
          74.30796813964844,
          -71.4008560180664,
          -132.08038330078125,
          -51.79899597167969,
          136.45452880859375,
          103.9248046875,
          6.802135467529297,
          -100.7992172241211,
          -40.04037094116211,
          -141.35577392578125,
          44.8971061706543,
          42.468448638916016,
          87.00054931640625,
          0.80335533618927,
          32.0550422668457,
          -14.292281150817871,
          5.959483623504639,
          64.68428802490234,
          72.0797348022461,
          -20.041179656982422,
          -134.62271118164062,
          -108.16647338867188,
          -165.1017303466797,
          -169.1260223388672,
          63.73386764526367,
          -58.089962005615234,
          31.03059196472168,
          209.87313842773438,
          -107.3861083984375,
          117.52371215820312,
          -62.49184799194336,
          7.920796871185303,
          -42.28187942504883,
          3.259042739868164,
          21.997455596923828,
          -49.38065719604492,
          -120.69795989990234,
          -111.44746398925781,
          -53.63393020629883,
          -122.583251953125,
          10.919801712036133,
          21.49425506591797,
          29.15993881225586,
          -41.511775970458984,
          70.81710815429688,
          57.40370559692383,
          -122.00135803222656,
          -109.79124450683594,
          137.80892944335938,
          -114.37775421142578,
          31.39544677734375,
          147.29136657714844,
          -35.049407958984375,
          -63.938697814941406,
          -63.688961029052734,
          94.83702087402344,
          42.4149169921875,
          121.35921478271484,
          -151.70899963378906,
          6.975665092468262,
          60.944618225097656,
          38.63994598388672,
          72.32267761230469,
          108.32392120361328,
          121.52766418457031,
          66.72281646728516,
          32.588294982910156,
          82.15837860107422,
          -135.88125610351562,
          -86.83818054199219,
          -85.01869201660156,
          135.45616149902344
         ]
        }
       ],
       "layout": {
        "scene": {
         "camera": {
          "center": {
           "x": 0,
           "y": 0,
           "z": 0
          },
          "eye": {
           "x": 0,
           "y": -1,
           "z": 1
          },
          "up": {
           "x": 0,
           "y": 0,
           "z": 1
          }
         },
         "xaxis": {
          "title": {
           "text": "x"
          }
         },
         "yaxis": {
          "title": {
           "text": "y"
          }
         },
         "zaxis": {
          "title": {
           "text": "z"
          }
         }
        },
        "template": {
         "data": {
          "bar": [
           {
            "error_x": {
             "color": "#2a3f5f"
            },
            "error_y": {
             "color": "#2a3f5f"
            },
            "marker": {
             "line": {
              "color": "#E5ECF6",
              "width": 0.5
             },
             "pattern": {
              "fillmode": "overlay",
              "size": 10,
              "solidity": 0.2
             }
            },
            "type": "bar"
           }
          ],
          "barpolar": [
           {
            "marker": {
             "line": {
              "color": "#E5ECF6",
              "width": 0.5
             },
             "pattern": {
              "fillmode": "overlay",
              "size": 10,
              "solidity": 0.2
             }
            },
            "type": "barpolar"
           }
          ],
          "carpet": [
           {
            "aaxis": {
             "endlinecolor": "#2a3f5f",
             "gridcolor": "white",
             "linecolor": "white",
             "minorgridcolor": "white",
             "startlinecolor": "#2a3f5f"
            },
            "baxis": {
             "endlinecolor": "#2a3f5f",
             "gridcolor": "white",
             "linecolor": "white",
             "minorgridcolor": "white",
             "startlinecolor": "#2a3f5f"
            },
            "type": "carpet"
           }
          ],
          "choropleth": [
           {
            "colorbar": {
             "outlinewidth": 0,
             "ticks": ""
            },
            "type": "choropleth"
           }
          ],
          "contour": [
           {
            "colorbar": {
             "outlinewidth": 0,
             "ticks": ""
            },
            "colorscale": [
             [
              0,
              "#0d0887"
             ],
             [
              0.1111111111111111,
              "#46039f"
             ],
             [
              0.2222222222222222,
              "#7201a8"
             ],
             [
              0.3333333333333333,
              "#9c179e"
             ],
             [
              0.4444444444444444,
              "#bd3786"
             ],
             [
              0.5555555555555556,
              "#d8576b"
             ],
             [
              0.6666666666666666,
              "#ed7953"
             ],
             [
              0.7777777777777778,
              "#fb9f3a"
             ],
             [
              0.8888888888888888,
              "#fdca26"
             ],
             [
              1,
              "#f0f921"
             ]
            ],
            "type": "contour"
           }
          ],
          "contourcarpet": [
           {
            "colorbar": {
             "outlinewidth": 0,
             "ticks": ""
            },
            "type": "contourcarpet"
           }
          ],
          "heatmap": [
           {
            "colorbar": {
             "outlinewidth": 0,
             "ticks": ""
            },
            "colorscale": [
             [
              0,
              "#0d0887"
             ],
             [
              0.1111111111111111,
              "#46039f"
             ],
             [
              0.2222222222222222,
              "#7201a8"
             ],
             [
              0.3333333333333333,
              "#9c179e"
             ],
             [
              0.4444444444444444,
              "#bd3786"
             ],
             [
              0.5555555555555556,
              "#d8576b"
             ],
             [
              0.6666666666666666,
              "#ed7953"
             ],
             [
              0.7777777777777778,
              "#fb9f3a"
             ],
             [
              0.8888888888888888,
              "#fdca26"
             ],
             [
              1,
              "#f0f921"
             ]
            ],
            "type": "heatmap"
           }
          ],
          "heatmapgl": [
           {
            "colorbar": {
             "outlinewidth": 0,
             "ticks": ""
            },
            "colorscale": [
             [
              0,
              "#0d0887"
             ],
             [
              0.1111111111111111,
              "#46039f"
             ],
             [
              0.2222222222222222,
              "#7201a8"
             ],
             [
              0.3333333333333333,
              "#9c179e"
             ],
             [
              0.4444444444444444,
              "#bd3786"
             ],
             [
              0.5555555555555556,
              "#d8576b"
             ],
             [
              0.6666666666666666,
              "#ed7953"
             ],
             [
              0.7777777777777778,
              "#fb9f3a"
             ],
             [
              0.8888888888888888,
              "#fdca26"
             ],
             [
              1,
              "#f0f921"
             ]
            ],
            "type": "heatmapgl"
           }
          ],
          "histogram": [
           {
            "marker": {
             "pattern": {
              "fillmode": "overlay",
              "size": 10,
              "solidity": 0.2
             }
            },
            "type": "histogram"
           }
          ],
          "histogram2d": [
           {
            "colorbar": {
             "outlinewidth": 0,
             "ticks": ""
            },
            "colorscale": [
             [
              0,
              "#0d0887"
             ],
             [
              0.1111111111111111,
              "#46039f"
             ],
             [
              0.2222222222222222,
              "#7201a8"
             ],
             [
              0.3333333333333333,
              "#9c179e"
             ],
             [
              0.4444444444444444,
              "#bd3786"
             ],
             [
              0.5555555555555556,
              "#d8576b"
             ],
             [
              0.6666666666666666,
              "#ed7953"
             ],
             [
              0.7777777777777778,
              "#fb9f3a"
             ],
             [
              0.8888888888888888,
              "#fdca26"
             ],
             [
              1,
              "#f0f921"
             ]
            ],
            "type": "histogram2d"
           }
          ],
          "histogram2dcontour": [
           {
            "colorbar": {
             "outlinewidth": 0,
             "ticks": ""
            },
            "colorscale": [
             [
              0,
              "#0d0887"
             ],
             [
              0.1111111111111111,
              "#46039f"
             ],
             [
              0.2222222222222222,
              "#7201a8"
             ],
             [
              0.3333333333333333,
              "#9c179e"
             ],
             [
              0.4444444444444444,
              "#bd3786"
             ],
             [
              0.5555555555555556,
              "#d8576b"
             ],
             [
              0.6666666666666666,
              "#ed7953"
             ],
             [
              0.7777777777777778,
              "#fb9f3a"
             ],
             [
              0.8888888888888888,
              "#fdca26"
             ],
             [
              1,
              "#f0f921"
             ]
            ],
            "type": "histogram2dcontour"
           }
          ],
          "mesh3d": [
           {
            "colorbar": {
             "outlinewidth": 0,
             "ticks": ""
            },
            "type": "mesh3d"
           }
          ],
          "parcoords": [
           {
            "line": {
             "colorbar": {
              "outlinewidth": 0,
              "ticks": ""
             }
            },
            "type": "parcoords"
           }
          ],
          "pie": [
           {
            "automargin": true,
            "type": "pie"
           }
          ],
          "scatter": [
           {
            "fillpattern": {
             "fillmode": "overlay",
             "size": 10,
             "solidity": 0.2
            },
            "type": "scatter"
           }
          ],
          "scatter3d": [
           {
            "line": {
             "colorbar": {
              "outlinewidth": 0,
              "ticks": ""
             }
            },
            "marker": {
             "colorbar": {
              "outlinewidth": 0,
              "ticks": ""
             }
            },
            "type": "scatter3d"
           }
          ],
          "scattercarpet": [
           {
            "marker": {
             "colorbar": {
              "outlinewidth": 0,
              "ticks": ""
             }
            },
            "type": "scattercarpet"
           }
          ],
          "scattergeo": [
           {
            "marker": {
             "colorbar": {
              "outlinewidth": 0,
              "ticks": ""
             }
            },
            "type": "scattergeo"
           }
          ],
          "scattergl": [
           {
            "marker": {
             "colorbar": {
              "outlinewidth": 0,
              "ticks": ""
             }
            },
            "type": "scattergl"
           }
          ],
          "scattermapbox": [
           {
            "marker": {
             "colorbar": {
              "outlinewidth": 0,
              "ticks": ""
             }
            },
            "type": "scattermapbox"
           }
          ],
          "scatterpolar": [
           {
            "marker": {
             "colorbar": {
              "outlinewidth": 0,
              "ticks": ""
             }
            },
            "type": "scatterpolar"
           }
          ],
          "scatterpolargl": [
           {
            "marker": {
             "colorbar": {
              "outlinewidth": 0,
              "ticks": ""
             }
            },
            "type": "scatterpolargl"
           }
          ],
          "scatterternary": [
           {
            "marker": {
             "colorbar": {
              "outlinewidth": 0,
              "ticks": ""
             }
            },
            "type": "scatterternary"
           }
          ],
          "surface": [
           {
            "colorbar": {
             "outlinewidth": 0,
             "ticks": ""
            },
            "colorscale": [
             [
              0,
              "#0d0887"
             ],
             [
              0.1111111111111111,
              "#46039f"
             ],
             [
              0.2222222222222222,
              "#7201a8"
             ],
             [
              0.3333333333333333,
              "#9c179e"
             ],
             [
              0.4444444444444444,
              "#bd3786"
             ],
             [
              0.5555555555555556,
              "#d8576b"
             ],
             [
              0.6666666666666666,
              "#ed7953"
             ],
             [
              0.7777777777777778,
              "#fb9f3a"
             ],
             [
              0.8888888888888888,
              "#fdca26"
             ],
             [
              1,
              "#f0f921"
             ]
            ],
            "type": "surface"
           }
          ],
          "table": [
           {
            "cells": {
             "fill": {
              "color": "#EBF0F8"
             },
             "line": {
              "color": "white"
             }
            },
            "header": {
             "fill": {
              "color": "#C8D4E3"
             },
             "line": {
              "color": "white"
             }
            },
            "type": "table"
           }
          ]
         },
         "layout": {
          "annotationdefaults": {
           "arrowcolor": "#2a3f5f",
           "arrowhead": 0,
           "arrowwidth": 1
          },
          "autotypenumbers": "strict",
          "coloraxis": {
           "colorbar": {
            "outlinewidth": 0,
            "ticks": ""
           }
          },
          "colorscale": {
           "diverging": [
            [
             0,
             "#8e0152"
            ],
            [
             0.1,
             "#c51b7d"
            ],
            [
             0.2,
             "#de77ae"
            ],
            [
             0.3,
             "#f1b6da"
            ],
            [
             0.4,
             "#fde0ef"
            ],
            [
             0.5,
             "#f7f7f7"
            ],
            [
             0.6,
             "#e6f5d0"
            ],
            [
             0.7,
             "#b8e186"
            ],
            [
             0.8,
             "#7fbc41"
            ],
            [
             0.9,
             "#4d9221"
            ],
            [
             1,
             "#276419"
            ]
           ],
           "sequential": [
            [
             0,
             "#0d0887"
            ],
            [
             0.1111111111111111,
             "#46039f"
            ],
            [
             0.2222222222222222,
             "#7201a8"
            ],
            [
             0.3333333333333333,
             "#9c179e"
            ],
            [
             0.4444444444444444,
             "#bd3786"
            ],
            [
             0.5555555555555556,
             "#d8576b"
            ],
            [
             0.6666666666666666,
             "#ed7953"
            ],
            [
             0.7777777777777778,
             "#fb9f3a"
            ],
            [
             0.8888888888888888,
             "#fdca26"
            ],
            [
             1,
             "#f0f921"
            ]
           ],
           "sequentialminus": [
            [
             0,
             "#0d0887"
            ],
            [
             0.1111111111111111,
             "#46039f"
            ],
            [
             0.2222222222222222,
             "#7201a8"
            ],
            [
             0.3333333333333333,
             "#9c179e"
            ],
            [
             0.4444444444444444,
             "#bd3786"
            ],
            [
             0.5555555555555556,
             "#d8576b"
            ],
            [
             0.6666666666666666,
             "#ed7953"
            ],
            [
             0.7777777777777778,
             "#fb9f3a"
            ],
            [
             0.8888888888888888,
             "#fdca26"
            ],
            [
             1,
             "#f0f921"
            ]
           ]
          },
          "colorway": [
           "#636efa",
           "#EF553B",
           "#00cc96",
           "#ab63fa",
           "#FFA15A",
           "#19d3f3",
           "#FF6692",
           "#B6E880",
           "#FF97FF",
           "#FECB52"
          ],
          "font": {
           "color": "#2a3f5f"
          },
          "geo": {
           "bgcolor": "white",
           "lakecolor": "white",
           "landcolor": "#E5ECF6",
           "showlakes": true,
           "showland": true,
           "subunitcolor": "white"
          },
          "hoverlabel": {
           "align": "left"
          },
          "hovermode": "closest",
          "mapbox": {
           "style": "light"
          },
          "paper_bgcolor": "white",
          "plot_bgcolor": "#E5ECF6",
          "polar": {
           "angularaxis": {
            "gridcolor": "white",
            "linecolor": "white",
            "ticks": ""
           },
           "bgcolor": "#E5ECF6",
           "radialaxis": {
            "gridcolor": "white",
            "linecolor": "white",
            "ticks": ""
           }
          },
          "scene": {
           "xaxis": {
            "backgroundcolor": "#E5ECF6",
            "gridcolor": "white",
            "gridwidth": 2,
            "linecolor": "white",
            "showbackground": true,
            "ticks": "",
            "zerolinecolor": "white"
           },
           "yaxis": {
            "backgroundcolor": "#E5ECF6",
            "gridcolor": "white",
            "gridwidth": 2,
            "linecolor": "white",
            "showbackground": true,
            "ticks": "",
            "zerolinecolor": "white"
           },
           "zaxis": {
            "backgroundcolor": "#E5ECF6",
            "gridcolor": "white",
            "gridwidth": 2,
            "linecolor": "white",
            "showbackground": true,
            "ticks": "",
            "zerolinecolor": "white"
           }
          },
          "shapedefaults": {
           "line": {
            "color": "#2a3f5f"
           }
          },
          "ternary": {
           "aaxis": {
            "gridcolor": "white",
            "linecolor": "white",
            "ticks": ""
           },
           "baxis": {
            "gridcolor": "white",
            "linecolor": "white",
            "ticks": ""
           },
           "bgcolor": "#E5ECF6",
           "caxis": {
            "gridcolor": "white",
            "linecolor": "white",
            "ticks": ""
           }
          },
          "title": {
           "x": 0.05
          },
          "xaxis": {
           "automargin": true,
           "gridcolor": "white",
           "linecolor": "white",
           "ticks": "",
           "title": {
            "standoff": 15
           },
           "zerolinecolor": "white",
           "zerolinewidth": 2
          },
          "yaxis": {
           "automargin": true,
           "gridcolor": "white",
           "linecolor": "white",
           "ticks": "",
           "title": {
            "standoff": 15
           },
           "zerolinecolor": "white",
           "zerolinewidth": 2
          }
         }
        },
        "title": {
         "text": "3D word embeddings"
        }
       }
      }
     },
     "metadata": {},
     "output_type": "display_data"
    }
   ],
   "source": [
    "\n",
    "trace0=go.Scatter3d(\n",
    "        x = df_vec.x,\n",
    "        y = df_vec.y,\n",
    "        z = df_vec.z,\n",
    "        mode=\"markers\",\n",
    "        text = df_vec.label,\n",
    "        )\n",
    "\n",
    "\n",
    "\n",
    "datas=[trace0]\n",
    "\n",
    "figure=go.Figure(\n",
    "    data=datas,\n",
    "    layout=go.Layout(\n",
    "      \n",
    "        scene=dict(\n",
    "            xaxis=dict(title=\"x\"),\n",
    "            yaxis=dict(title=\"y\"),\n",
    "            zaxis=dict(title=\"z\"),           \n",
    "                  ),\n",
    "    ))\n",
    "\n",
    "\n",
    "name = '3D word embeddings'\n",
    "\n",
    "camera = dict(\n",
    "    up=dict(x=0, y=0, z=1),\n",
    "    center=dict(x=0, y=0, z=0),\n",
    "    eye=dict(x=0, y=-1, z=1)\n",
    ")\n",
    "\n",
    "figure.update_layout(scene_camera=camera, title=name)#\n",
    "\n",
    "iplot(figure)"
   ]
  },
  {
   "cell_type": "markdown",
   "id": "3fa6435c",
   "metadata": {},
   "source": [
    "## Show coutry - capital vectors"
   ]
  },
  {
   "cell_type": "markdown",
   "id": "c0222710",
   "metadata": {},
   "source": [
    "Let's explore relations between a set of country-capital pairs"
   ]
  },
  {
   "cell_type": "code",
   "execution_count": 120,
   "id": "3a80b66b",
   "metadata": {},
   "outputs": [],
   "source": [
    "country_capitals_paris = [(\"France\", \"Paris\"), (\"England\", \"London\"),(\"Mali\", \"Bamako\"), \n",
    "                          (\"Poland\", \"Warsaw\"), (\"Italy\", \"Madrid\"), (\"Kenya\", \"Nairobi\")]"
   ]
  },
  {
   "cell_type": "code",
   "execution_count": 121,
   "id": "3743d580",
   "metadata": {},
   "outputs": [],
   "source": [
    "data=[]\n",
    "for pair in country_capitals_paris:\n",
    "    capital = pair[0]\n",
    "    country = pair[1]\n",
    "    \n",
    "    df_pair = df_vec.loc[df_vec.label.apply(lambda x: x in [capital, country])]\n",
    "                                            \n",
    "    trace=go.Scatter3d(\n",
    "        x =df_pair.x,\n",
    "        y=df_pair.y,\n",
    "        z=df_pair.z,\n",
    "        mode=\"markers+lines\",\n",
    "        text = df_pair.label\n",
    "        )\n",
    "    \n",
    "    data.append(trace)"
   ]
  },
  {
   "cell_type": "code",
   "execution_count": 122,
   "id": "09bb4773",
   "metadata": {},
   "outputs": [
    {
     "data": {
      "text/html": [
       "<div>\n",
       "<style scoped>\n",
       "    .dataframe tbody tr th:only-of-type {\n",
       "        vertical-align: middle;\n",
       "    }\n",
       "\n",
       "    .dataframe tbody tr th {\n",
       "        vertical-align: top;\n",
       "    }\n",
       "\n",
       "    .dataframe thead th {\n",
       "        text-align: right;\n",
       "    }\n",
       "</style>\n",
       "<table border=\"1\" class=\"dataframe\">\n",
       "  <thead>\n",
       "    <tr style=\"text-align: right;\">\n",
       "      <th></th>\n",
       "      <th>x</th>\n",
       "      <th>y</th>\n",
       "      <th>z</th>\n",
       "      <th>label</th>\n",
       "    </tr>\n",
       "  </thead>\n",
       "  <tbody>\n",
       "    <tr>\n",
       "      <th>47</th>\n",
       "      <td>127.978882</td>\n",
       "      <td>-61.731838</td>\n",
       "      <td>6.300955</td>\n",
       "      <td>Kenya</td>\n",
       "    </tr>\n",
       "    <tr>\n",
       "      <th>119</th>\n",
       "      <td>75.184807</td>\n",
       "      <td>-85.827286</td>\n",
       "      <td>-98.619896</td>\n",
       "      <td>Nairobi</td>\n",
       "    </tr>\n",
       "  </tbody>\n",
       "</table>\n",
       "</div>"
      ],
      "text/plain": [
       "              x          y          z    label\n",
       "47   127.978882 -61.731838   6.300955    Kenya\n",
       "119   75.184807 -85.827286 -98.619896  Nairobi"
      ]
     },
     "execution_count": 122,
     "metadata": {},
     "output_type": "execute_result"
    }
   ],
   "source": [
    "df_pair"
   ]
  },
  {
   "cell_type": "code",
   "execution_count": 124,
   "id": "3adfd55b",
   "metadata": {},
   "outputs": [
    {
     "data": {
      "application/vnd.plotly.v1+json": {
       "config": {
        "linkText": "Export to plot.ly",
        "plotlyServerURL": "https://plot.ly",
        "showLink": false
       },
       "data": [
        {
         "mode": "markers+lines",
         "text": [
          "France",
          "Paris"
         ],
         "type": "scatter3d",
         "x": [
          39.43877029418945,
          -37.341339111328125
         ],
         "y": [
          -32.68757629394531,
          40.83364486694336
         ],
         "z": [
          -17.77072525024414,
          151.67446899414062
         ]
        },
        {
         "mode": "markers+lines",
         "text": [
          "London",
          "England"
         ],
         "type": "scatter3d",
         "x": [
          -35.3056526184082,
          0.6015762686729431
         ],
         "y": [
          -42.16945266723633,
          -45.71503829956055
         ],
         "z": [
          15.971698760986328,
          6.550323963165283
         ]
        },
        {
         "mode": "markers+lines",
         "text": [
          "Mali",
          "Bamako"
         ],
         "type": "scatter3d",
         "x": [
          62.395896911621094,
          79.58100128173828
         ],
         "y": [
          -50.75652313232422,
          -87.20914459228516
         ],
         "z": [
          72.81888580322266,
          94.83702087402344
         ]
        },
        {
         "mode": "markers+lines",
         "text": [
          "Poland",
          "Warsaw"
         ],
         "type": "scatter3d",
         "x": [
          -15.217299461364746,
          -21.512649536132812
         ],
         "y": [
          -8.93831729888916,
          17.70734977722168
         ],
         "z": [
          -70.96824645996094,
          -94.87435150146484
         ]
        },
        {
         "mode": "markers+lines",
         "text": [
          "Italy",
          "Madrid"
         ],
         "type": "scatter3d",
         "x": [
          12.063749313354492,
          -34.37378692626953
         ],
         "y": [
          -9.839225769042969,
          -6.655290603637695
         ],
         "z": [
          -13.88050651550293,
          0.02082110196352005
         ]
        },
        {
         "mode": "markers+lines",
         "text": [
          "Kenya",
          "Nairobi"
         ],
         "type": "scatter3d",
         "x": [
          127.9788818359375,
          75.18480682373047
         ],
         "y": [
          -61.73183822631836,
          -85.82728576660156
         ],
         "z": [
          6.300954818725586,
          -98.6198959350586
         ]
        }
       ],
       "layout": {
        "scene": {
         "camera": {
          "center": {
           "x": 0,
           "y": 0,
           "z": 0
          },
          "eye": {
           "x": 0,
           "y": -1,
           "z": 1
          },
          "up": {
           "x": 0,
           "y": 0,
           "z": 1
          }
         },
         "xaxis": {
          "title": {
           "text": "x"
          }
         },
         "yaxis": {
          "title": {
           "text": "y"
          }
         },
         "zaxis": {
          "title": {
           "text": "z"
          }
         }
        },
        "template": {
         "data": {
          "bar": [
           {
            "error_x": {
             "color": "#2a3f5f"
            },
            "error_y": {
             "color": "#2a3f5f"
            },
            "marker": {
             "line": {
              "color": "#E5ECF6",
              "width": 0.5
             },
             "pattern": {
              "fillmode": "overlay",
              "size": 10,
              "solidity": 0.2
             }
            },
            "type": "bar"
           }
          ],
          "barpolar": [
           {
            "marker": {
             "line": {
              "color": "#E5ECF6",
              "width": 0.5
             },
             "pattern": {
              "fillmode": "overlay",
              "size": 10,
              "solidity": 0.2
             }
            },
            "type": "barpolar"
           }
          ],
          "carpet": [
           {
            "aaxis": {
             "endlinecolor": "#2a3f5f",
             "gridcolor": "white",
             "linecolor": "white",
             "minorgridcolor": "white",
             "startlinecolor": "#2a3f5f"
            },
            "baxis": {
             "endlinecolor": "#2a3f5f",
             "gridcolor": "white",
             "linecolor": "white",
             "minorgridcolor": "white",
             "startlinecolor": "#2a3f5f"
            },
            "type": "carpet"
           }
          ],
          "choropleth": [
           {
            "colorbar": {
             "outlinewidth": 0,
             "ticks": ""
            },
            "type": "choropleth"
           }
          ],
          "contour": [
           {
            "colorbar": {
             "outlinewidth": 0,
             "ticks": ""
            },
            "colorscale": [
             [
              0,
              "#0d0887"
             ],
             [
              0.1111111111111111,
              "#46039f"
             ],
             [
              0.2222222222222222,
              "#7201a8"
             ],
             [
              0.3333333333333333,
              "#9c179e"
             ],
             [
              0.4444444444444444,
              "#bd3786"
             ],
             [
              0.5555555555555556,
              "#d8576b"
             ],
             [
              0.6666666666666666,
              "#ed7953"
             ],
             [
              0.7777777777777778,
              "#fb9f3a"
             ],
             [
              0.8888888888888888,
              "#fdca26"
             ],
             [
              1,
              "#f0f921"
             ]
            ],
            "type": "contour"
           }
          ],
          "contourcarpet": [
           {
            "colorbar": {
             "outlinewidth": 0,
             "ticks": ""
            },
            "type": "contourcarpet"
           }
          ],
          "heatmap": [
           {
            "colorbar": {
             "outlinewidth": 0,
             "ticks": ""
            },
            "colorscale": [
             [
              0,
              "#0d0887"
             ],
             [
              0.1111111111111111,
              "#46039f"
             ],
             [
              0.2222222222222222,
              "#7201a8"
             ],
             [
              0.3333333333333333,
              "#9c179e"
             ],
             [
              0.4444444444444444,
              "#bd3786"
             ],
             [
              0.5555555555555556,
              "#d8576b"
             ],
             [
              0.6666666666666666,
              "#ed7953"
             ],
             [
              0.7777777777777778,
              "#fb9f3a"
             ],
             [
              0.8888888888888888,
              "#fdca26"
             ],
             [
              1,
              "#f0f921"
             ]
            ],
            "type": "heatmap"
           }
          ],
          "heatmapgl": [
           {
            "colorbar": {
             "outlinewidth": 0,
             "ticks": ""
            },
            "colorscale": [
             [
              0,
              "#0d0887"
             ],
             [
              0.1111111111111111,
              "#46039f"
             ],
             [
              0.2222222222222222,
              "#7201a8"
             ],
             [
              0.3333333333333333,
              "#9c179e"
             ],
             [
              0.4444444444444444,
              "#bd3786"
             ],
             [
              0.5555555555555556,
              "#d8576b"
             ],
             [
              0.6666666666666666,
              "#ed7953"
             ],
             [
              0.7777777777777778,
              "#fb9f3a"
             ],
             [
              0.8888888888888888,
              "#fdca26"
             ],
             [
              1,
              "#f0f921"
             ]
            ],
            "type": "heatmapgl"
           }
          ],
          "histogram": [
           {
            "marker": {
             "pattern": {
              "fillmode": "overlay",
              "size": 10,
              "solidity": 0.2
             }
            },
            "type": "histogram"
           }
          ],
          "histogram2d": [
           {
            "colorbar": {
             "outlinewidth": 0,
             "ticks": ""
            },
            "colorscale": [
             [
              0,
              "#0d0887"
             ],
             [
              0.1111111111111111,
              "#46039f"
             ],
             [
              0.2222222222222222,
              "#7201a8"
             ],
             [
              0.3333333333333333,
              "#9c179e"
             ],
             [
              0.4444444444444444,
              "#bd3786"
             ],
             [
              0.5555555555555556,
              "#d8576b"
             ],
             [
              0.6666666666666666,
              "#ed7953"
             ],
             [
              0.7777777777777778,
              "#fb9f3a"
             ],
             [
              0.8888888888888888,
              "#fdca26"
             ],
             [
              1,
              "#f0f921"
             ]
            ],
            "type": "histogram2d"
           }
          ],
          "histogram2dcontour": [
           {
            "colorbar": {
             "outlinewidth": 0,
             "ticks": ""
            },
            "colorscale": [
             [
              0,
              "#0d0887"
             ],
             [
              0.1111111111111111,
              "#46039f"
             ],
             [
              0.2222222222222222,
              "#7201a8"
             ],
             [
              0.3333333333333333,
              "#9c179e"
             ],
             [
              0.4444444444444444,
              "#bd3786"
             ],
             [
              0.5555555555555556,
              "#d8576b"
             ],
             [
              0.6666666666666666,
              "#ed7953"
             ],
             [
              0.7777777777777778,
              "#fb9f3a"
             ],
             [
              0.8888888888888888,
              "#fdca26"
             ],
             [
              1,
              "#f0f921"
             ]
            ],
            "type": "histogram2dcontour"
           }
          ],
          "mesh3d": [
           {
            "colorbar": {
             "outlinewidth": 0,
             "ticks": ""
            },
            "type": "mesh3d"
           }
          ],
          "parcoords": [
           {
            "line": {
             "colorbar": {
              "outlinewidth": 0,
              "ticks": ""
             }
            },
            "type": "parcoords"
           }
          ],
          "pie": [
           {
            "automargin": true,
            "type": "pie"
           }
          ],
          "scatter": [
           {
            "fillpattern": {
             "fillmode": "overlay",
             "size": 10,
             "solidity": 0.2
            },
            "type": "scatter"
           }
          ],
          "scatter3d": [
           {
            "line": {
             "colorbar": {
              "outlinewidth": 0,
              "ticks": ""
             }
            },
            "marker": {
             "colorbar": {
              "outlinewidth": 0,
              "ticks": ""
             }
            },
            "type": "scatter3d"
           }
          ],
          "scattercarpet": [
           {
            "marker": {
             "colorbar": {
              "outlinewidth": 0,
              "ticks": ""
             }
            },
            "type": "scattercarpet"
           }
          ],
          "scattergeo": [
           {
            "marker": {
             "colorbar": {
              "outlinewidth": 0,
              "ticks": ""
             }
            },
            "type": "scattergeo"
           }
          ],
          "scattergl": [
           {
            "marker": {
             "colorbar": {
              "outlinewidth": 0,
              "ticks": ""
             }
            },
            "type": "scattergl"
           }
          ],
          "scattermapbox": [
           {
            "marker": {
             "colorbar": {
              "outlinewidth": 0,
              "ticks": ""
             }
            },
            "type": "scattermapbox"
           }
          ],
          "scatterpolar": [
           {
            "marker": {
             "colorbar": {
              "outlinewidth": 0,
              "ticks": ""
             }
            },
            "type": "scatterpolar"
           }
          ],
          "scatterpolargl": [
           {
            "marker": {
             "colorbar": {
              "outlinewidth": 0,
              "ticks": ""
             }
            },
            "type": "scatterpolargl"
           }
          ],
          "scatterternary": [
           {
            "marker": {
             "colorbar": {
              "outlinewidth": 0,
              "ticks": ""
             }
            },
            "type": "scatterternary"
           }
          ],
          "surface": [
           {
            "colorbar": {
             "outlinewidth": 0,
             "ticks": ""
            },
            "colorscale": [
             [
              0,
              "#0d0887"
             ],
             [
              0.1111111111111111,
              "#46039f"
             ],
             [
              0.2222222222222222,
              "#7201a8"
             ],
             [
              0.3333333333333333,
              "#9c179e"
             ],
             [
              0.4444444444444444,
              "#bd3786"
             ],
             [
              0.5555555555555556,
              "#d8576b"
             ],
             [
              0.6666666666666666,
              "#ed7953"
             ],
             [
              0.7777777777777778,
              "#fb9f3a"
             ],
             [
              0.8888888888888888,
              "#fdca26"
             ],
             [
              1,
              "#f0f921"
             ]
            ],
            "type": "surface"
           }
          ],
          "table": [
           {
            "cells": {
             "fill": {
              "color": "#EBF0F8"
             },
             "line": {
              "color": "white"
             }
            },
            "header": {
             "fill": {
              "color": "#C8D4E3"
             },
             "line": {
              "color": "white"
             }
            },
            "type": "table"
           }
          ]
         },
         "layout": {
          "annotationdefaults": {
           "arrowcolor": "#2a3f5f",
           "arrowhead": 0,
           "arrowwidth": 1
          },
          "autotypenumbers": "strict",
          "coloraxis": {
           "colorbar": {
            "outlinewidth": 0,
            "ticks": ""
           }
          },
          "colorscale": {
           "diverging": [
            [
             0,
             "#8e0152"
            ],
            [
             0.1,
             "#c51b7d"
            ],
            [
             0.2,
             "#de77ae"
            ],
            [
             0.3,
             "#f1b6da"
            ],
            [
             0.4,
             "#fde0ef"
            ],
            [
             0.5,
             "#f7f7f7"
            ],
            [
             0.6,
             "#e6f5d0"
            ],
            [
             0.7,
             "#b8e186"
            ],
            [
             0.8,
             "#7fbc41"
            ],
            [
             0.9,
             "#4d9221"
            ],
            [
             1,
             "#276419"
            ]
           ],
           "sequential": [
            [
             0,
             "#0d0887"
            ],
            [
             0.1111111111111111,
             "#46039f"
            ],
            [
             0.2222222222222222,
             "#7201a8"
            ],
            [
             0.3333333333333333,
             "#9c179e"
            ],
            [
             0.4444444444444444,
             "#bd3786"
            ],
            [
             0.5555555555555556,
             "#d8576b"
            ],
            [
             0.6666666666666666,
             "#ed7953"
            ],
            [
             0.7777777777777778,
             "#fb9f3a"
            ],
            [
             0.8888888888888888,
             "#fdca26"
            ],
            [
             1,
             "#f0f921"
            ]
           ],
           "sequentialminus": [
            [
             0,
             "#0d0887"
            ],
            [
             0.1111111111111111,
             "#46039f"
            ],
            [
             0.2222222222222222,
             "#7201a8"
            ],
            [
             0.3333333333333333,
             "#9c179e"
            ],
            [
             0.4444444444444444,
             "#bd3786"
            ],
            [
             0.5555555555555556,
             "#d8576b"
            ],
            [
             0.6666666666666666,
             "#ed7953"
            ],
            [
             0.7777777777777778,
             "#fb9f3a"
            ],
            [
             0.8888888888888888,
             "#fdca26"
            ],
            [
             1,
             "#f0f921"
            ]
           ]
          },
          "colorway": [
           "#636efa",
           "#EF553B",
           "#00cc96",
           "#ab63fa",
           "#FFA15A",
           "#19d3f3",
           "#FF6692",
           "#B6E880",
           "#FF97FF",
           "#FECB52"
          ],
          "font": {
           "color": "#2a3f5f"
          },
          "geo": {
           "bgcolor": "white",
           "lakecolor": "white",
           "landcolor": "#E5ECF6",
           "showlakes": true,
           "showland": true,
           "subunitcolor": "white"
          },
          "hoverlabel": {
           "align": "left"
          },
          "hovermode": "closest",
          "mapbox": {
           "style": "light"
          },
          "paper_bgcolor": "white",
          "plot_bgcolor": "#E5ECF6",
          "polar": {
           "angularaxis": {
            "gridcolor": "white",
            "linecolor": "white",
            "ticks": ""
           },
           "bgcolor": "#E5ECF6",
           "radialaxis": {
            "gridcolor": "white",
            "linecolor": "white",
            "ticks": ""
           }
          },
          "scene": {
           "xaxis": {
            "backgroundcolor": "#E5ECF6",
            "gridcolor": "white",
            "gridwidth": 2,
            "linecolor": "white",
            "showbackground": true,
            "ticks": "",
            "zerolinecolor": "white"
           },
           "yaxis": {
            "backgroundcolor": "#E5ECF6",
            "gridcolor": "white",
            "gridwidth": 2,
            "linecolor": "white",
            "showbackground": true,
            "ticks": "",
            "zerolinecolor": "white"
           },
           "zaxis": {
            "backgroundcolor": "#E5ECF6",
            "gridcolor": "white",
            "gridwidth": 2,
            "linecolor": "white",
            "showbackground": true,
            "ticks": "",
            "zerolinecolor": "white"
           }
          },
          "shapedefaults": {
           "line": {
            "color": "#2a3f5f"
           }
          },
          "ternary": {
           "aaxis": {
            "gridcolor": "white",
            "linecolor": "white",
            "ticks": ""
           },
           "baxis": {
            "gridcolor": "white",
            "linecolor": "white",
            "ticks": ""
           },
           "bgcolor": "#E5ECF6",
           "caxis": {
            "gridcolor": "white",
            "linecolor": "white",
            "ticks": ""
           }
          },
          "title": {
           "x": 0.05
          },
          "xaxis": {
           "automargin": true,
           "gridcolor": "white",
           "linecolor": "white",
           "ticks": "",
           "title": {
            "standoff": 15
           },
           "zerolinecolor": "white",
           "zerolinewidth": 2
          },
          "yaxis": {
           "automargin": true,
           "gridcolor": "white",
           "linecolor": "white",
           "ticks": "",
           "title": {
            "standoff": 15
           },
           "zerolinecolor": "white",
           "zerolinewidth": 2
          }
         }
        },
        "title": {
         "text": ""
        }
       }
      }
     },
     "metadata": {},
     "output_type": "display_data"
    }
   ],
   "source": [
    "figure=go.Figure(\n",
    "    data=data,\n",
    "    layout=go.Layout(\n",
    "      \n",
    "        scene=dict(\n",
    "            xaxis=dict(title=\"x\"),\n",
    "            yaxis=dict(title=\"y\"),\n",
    "            zaxis=dict(title=\"z\")\n",
    "            \n",
    "\n",
    "           \n",
    "                  ),\n",
    "\n",
    "    ))\n",
    "\n",
    "\n",
    "name = ''\n",
    "# Default parameters which are used when `layout.scene.camera` is not provided\n",
    "camera = dict(\n",
    "    up=dict(x=0, y=0, z=1),\n",
    "    center=dict(x=0, y=0, z=0),\n",
    "    eye=dict(x=0, y=-1, z=1)\n",
    ")\n",
    "\n",
    "figure.update_layout(scene_camera=camera, title=name)#\n",
    "\n",
    "iplot(figure)"
   ]
  },
  {
   "cell_type": "markdown",
   "id": "a5349aec",
   "metadata": {},
   "source": [
    "## Predict capital of Spain"
   ]
  },
  {
   "cell_type": "markdown",
   "id": "35dc9925",
   "metadata": {},
   "source": [
    "No we will use words vectorizations to predict country's capital\n",
    "\n",
    "Let's go to the original 300D X so that we don't loose information and see if we can predict the capital of any country"
   ]
  },
  {
   "cell_type": "code",
   "execution_count": 125,
   "id": "ed866579",
   "metadata": {},
   "outputs": [],
   "source": [
    "# Create country capital vector by substracting two vectors e.g. France and Paris\n",
    "country_capital_vector = word_embeddings[\"France\"] - word_embeddings[\"Paris\"]"
   ]
  },
  {
   "cell_type": "code",
   "execution_count": 126,
   "id": "6e403814",
   "metadata": {},
   "outputs": [
    {
     "data": {
      "text/plain": [
       "array([ 0.06713867, -0.05322266,  0.3305359 , -0.16333008, -0.14941406,\n",
       "       -0.06420898,  0.16503906, -0.10351562,  0.02050781, -0.14660645,\n",
       "        0.16796875, -0.18652344, -0.1796875 ,  0.03125   , -0.05566406,\n",
       "        0.17138672, -0.01757812,  0.11474609, -0.00292969,  0.04443359,\n",
       "        0.2680664 ,  0.09423828, -0.08349609, -0.17480469, -0.15344238,\n",
       "       -0.01171875, -0.12109375, -0.2618103 , -0.0135498 ,  0.1895752 ,\n",
       "       -0.09082031,  0.08300781,  0.12695312, -0.03466797,  0.28051758,\n",
       "       -0.04589844, -0.07275391, -0.02441406,  0.10644531,  0.00256348,\n",
       "        0.12664795,  0.03417969,  0.00585938, -0.05664062,  0.09716797,\n",
       "        0.01367188, -0.07421875,  0.13110352, -0.07397461, -0.23925781,\n",
       "       -0.18359375, -0.11157227, -0.13232422,  0.2841797 ,  0.13671875,\n",
       "       -0.01269531, -0.26367188,  0.05566406,  0.03320312,  0.0987854 ,\n",
       "       -0.03271484,  0.02832031,  0.01867676, -0.14746094, -0.00878906,\n",
       "       -0.02520752,  0.24090576, -0.14257812,  0.02935791,  0.02734375,\n",
       "        0.0378418 ,  0.10205078, -0.03039551, -0.06640625,  0.06445312,\n",
       "       -0.25793457, -0.11914062, -0.16940308, -0.08642578, -0.04003906,\n",
       "        0.01019287,  0.06542969,  0.04833984,  0.00292969,  0.13916016,\n",
       "       -0.17382812, -0.17626953, -0.01324463,  0.26708984, -0.10351562,\n",
       "       -0.05859375,  0.09521484, -0.0546875 ,  0.22216797,  0.19812012,\n",
       "        0.015625  , -0.02148438, -0.0703125 ,  0.2758789 ,  0.15368652,\n",
       "       -0.03320312, -0.11242676, -0.00683594,  0.13867188,  0.07568359,\n",
       "        0.03613281,  0.19042969,  0.00979614,  0.22802734,  0.10424805,\n",
       "        0.03515625,  0.07495117, -0.02050781,  0.02294922,  0.00292969,\n",
       "        0.03308105,  0.1715393 ,  0.1694336 ,  0.31079102, -0.0625    ,\n",
       "       -0.04833984,  0.04296875, -0.02062988,  0.14709473, -0.33984375,\n",
       "        0.02734375,  0.10095215, -0.10498047, -0.35229492,  0.08425903,\n",
       "        0.06530762,  0.02246094, -0.15332031, -0.1508789 ,  0.08270264,\n",
       "        0.22241211,  0.04428482, -0.04052734,  0.20385742, -0.14746094,\n",
       "        0.03125   , -0.04394531,  0.10742188,  0.13842773, -0.19970703,\n",
       "       -0.01428223,  0.22265625,  0.03552246,  0.07104492, -0.03613281,\n",
       "       -0.08374023, -0.18774414, -0.15472412, -0.10839844, -0.06835938,\n",
       "       -0.16503906,  0.04534912,  0.        ,  0.06384277,  0.24511719,\n",
       "       -0.08203125, -0.15429688,  0.03125   , -0.26611328,  0.02148438,\n",
       "       -0.10839844, -0.17236328, -0.03125   , -0.11486816,  0.01953125,\n",
       "       -0.05224609,  0.3544922 ,  0.00561523, -0.05371094,  0.07080078,\n",
       "        0.0234375 , -0.05004883,  0.0859375 , -0.01660156,  0.16894531,\n",
       "        0.04589844, -0.2664795 , -0.07324219, -0.05566406,  0.00976562,\n",
       "        0.00834656,  0.13720703,  0.08984375, -0.015625  ,  0.14501953,\n",
       "       -0.09960938, -0.13500977, -0.04833984, -0.14575195,  0.2376709 ,\n",
       "        0.06640625,  0.04541016,  0.19677734, -0.2043457 , -0.06640625,\n",
       "       -0.06640625, -0.05664062, -0.02270508, -0.02539062, -0.0234375 ,\n",
       "        0.30566406, -0.13867188, -0.21850586, -0.04394531, -0.11254883,\n",
       "        0.22875977, -0.12585449, -0.15478516,  0.3972168 ,  0.00488281,\n",
       "       -0.08251953,  0.21350098, -0.2319336 , -0.33398438,  0.09301758,\n",
       "       -0.18261719,  0.04980469,  0.07147217, -0.21032715, -0.00878906,\n",
       "       -0.2133789 ,  0.15771484, -0.03466797,  0.3935547 , -0.05517578,\n",
       "       -0.1151123 , -0.03933716,  0.21282959,  0.13305664, -0.1965332 ,\n",
       "        0.20507812, -0.05688477,  0.02563477, -0.258667  , -0.00537109,\n",
       "       -0.26464844, -0.13452148,  0.15878296,  0.10742188,  0.17114258,\n",
       "       -0.2265625 , -0.17871094,  0.12060547, -0.11376953, -0.03613281,\n",
       "        0.16748047, -0.02490234,  0.07263184,  0.1105957 , -0.04614258,\n",
       "        0.20800781,  0.02661133, -0.078125  , -0.015625  , -0.0078125 ,\n",
       "       -0.1743164 ,  0.0234375 , -0.13916016,  0.14892578,  0.08886719,\n",
       "       -0.2536621 , -0.1739502 , -0.18164062,  0.07617188, -0.13769531,\n",
       "       -0.22216797, -0.02685547,  0.01318359, -0.10385132, -0.0390625 ,\n",
       "        0.07434082, -0.01171875, -0.01953125, -0.16015625, -0.01416016,\n",
       "        0.03027344, -0.07263184,  0.09364319,  0.12054443, -0.05944824,\n",
       "       -0.13964844,  0.14697266,  0.01367188,  0.06445312,  0.06152344,\n",
       "        0.19995117,  0.07128906, -0.08307362,  0.09619141, -0.05419922,\n",
       "       -0.0690918 ,  0.02880859, -0.17651367,  0.13476562, -0.04736328],\n",
       "      dtype=float32)"
      ]
     },
     "execution_count": 126,
     "metadata": {},
     "output_type": "execute_result"
    }
   ],
   "source": [
    "country_capital_vector"
   ]
  },
  {
   "cell_type": "code",
   "execution_count": 127,
   "id": "4226dabf",
   "metadata": {},
   "outputs": [],
   "source": [
    "## Calculate expected vector for England's capital based on previously calculated country_capital_vector\n",
    "expected_capital_vector = word_embeddings[\"England\"] - country_capital_vector"
   ]
  },
  {
   "cell_type": "markdown",
   "id": "1dff7c2b",
   "metadata": {},
   "source": [
    "## Leverage nearest neighbors search to find corresponding vector"
   ]
  },
  {
   "cell_type": "markdown",
   "id": "b6ba4437",
   "metadata": {},
   "source": [
    "Searching similar neighbors in 300D vector space can be tricky and brute-force calculations will cost a lot of computation. We can use sklearn NearestNeighbors algorithm"
   ]
  },
  {
   "cell_type": "code",
   "execution_count": 135,
   "id": "585b0b29",
   "metadata": {},
   "outputs": [],
   "source": [
    "# Fit nearest neighbors based on X, set n_neighbors to 3\n",
    "nearest_neighbors = NearestNeighbors(n_neighbors=3, algorithm='ball_tree').fit(X)"
   ]
  },
  {
   "cell_type": "code",
   "execution_count": 136,
   "id": "697fd7aa",
   "metadata": {},
   "outputs": [],
   "source": [
    "# Find distance and idx of 3 nearest neighbors for expected capital vector\n",
    "dist, idx = nearest_neighbors.kneighbors([expected_capital_vector])"
   ]
  },
  {
   "cell_type": "code",
   "execution_count": 137,
   "id": "47a8c421",
   "metadata": {},
   "outputs": [
    {
     "data": {
      "text/plain": [
       "array([ 8,  7, 26], dtype=int64)"
      ]
     },
     "execution_count": 137,
     "metadata": {},
     "output_type": "execute_result"
    }
   ],
   "source": [
    "idx[0]"
   ]
  },
  {
   "cell_type": "code",
   "execution_count": 138,
   "id": "89b8a8b0",
   "metadata": {},
   "outputs": [
    {
     "data": {
      "text/plain": [
       "array([[2.36614335, 2.49261504, 3.01510667]])"
      ]
     },
     "execution_count": 138,
     "metadata": {},
     "output_type": "execute_result"
    }
   ],
   "source": [
    "dist"
   ]
  },
  {
   "cell_type": "code",
   "execution_count": 139,
   "id": "e4c9dff5",
   "metadata": {},
   "outputs": [
    {
     "data": {
      "text/plain": [
       "8     England\n",
       "7      London\n",
       "26      Paris\n",
       "Name: label, dtype: object"
      ]
     },
     "execution_count": 139,
     "metadata": {},
     "output_type": "execute_result"
    }
   ],
   "source": [
    "#Let's see if any of nearest neighbors are correct\n",
    "df_vec.label.loc[idx[0]]"
   ]
  },
  {
   "cell_type": "markdown",
   "id": "8c5fc954",
   "metadata": {},
   "source": [
    "Create a function, which will predict given countrys capital"
   ]
  },
  {
   "cell_type": "code",
   "execution_count": null,
   "id": "6afc945c",
   "metadata": {},
   "outputs": [],
   "source": []
  },
  {
   "cell_type": "code",
   "execution_count": 140,
   "id": "e1a37797",
   "metadata": {},
   "outputs": [],
   "source": [
    "def get_capital(country, df_vec):\n",
    "    \"\"\"Create a function, which returns predicted capital for any given country\n",
    "    Word embeddings and country_capital_vector can be treated as global params and do not need \n",
    "    to be included in function args for simplicity\n",
    "    \"\"\"\n",
    "    expected_capital_vector = word_embeddings[country] - country_capital_vector\n",
    "    nearest_neighbors = NearestNeighbors(n_neighbors=3).fit(X)\n",
    "    dist, idx = nearest_neighbors.kneighbors([expected_capital_vector])\n",
    "    return df_vec.loc[idx[0][0]]"
   ]
  },
  {
   "cell_type": "code",
   "execution_count": 145,
   "id": "3d59d8f5",
   "metadata": {},
   "outputs": [
    {
     "name": "stdout",
     "output_type": "stream",
     "text": [
      "Russia x        -39.324348\n",
      "y       -176.132294\n",
      "z        -59.247547\n",
      "label        Moscow\n",
      "Name: 35, dtype: object\n",
      "Tuvalu x         -92.35936\n",
      "y          19.34063\n",
      "z        147.291367\n",
      "label        Tuvalu\n",
      "Name: 222, dtype: object\n",
      "Honduras x        16.052261\n",
      "y        67.986992\n",
      "z         11.28756\n",
      "label     Honduras\n",
      "Name: 112, dtype: object\n",
      "Egypt x         1.728504\n",
      "y       -73.493057\n",
      "z        88.992996\n",
      "label        Cairo\n",
      "Name: 77, dtype: object\n"
     ]
    }
   ],
   "source": [
    "# Print country capitals for the following list\n",
    "countries = [\"Russia\", \"Tuvalu\", \"Honduras\", \"Egypt\"]\n",
    "\n",
    "for country in countries:\n",
    "    print(country, get_capital(country, df_vec))"
   ]
  },
  {
   "cell_type": "code",
   "execution_count": null,
   "id": "9c426a95",
   "metadata": {},
   "outputs": [],
   "source": []
  }
 ],
 "metadata": {
  "kernelspec": {
   "display_name": "Python 3",
   "language": "python",
   "name": "python3"
  },
  "language_info": {
   "codemirror_mode": {
    "name": "ipython",
    "version": 3
   },
   "file_extension": ".py",
   "mimetype": "text/x-python",
   "name": "python",
   "nbconvert_exporter": "python",
   "pygments_lexer": "ipython3",
   "version": "3.9.0"
  },
  "toc": {
   "base_numbering": 1,
   "nav_menu": {},
   "number_sections": true,
   "sideBar": true,
   "skip_h1_title": false,
   "title_cell": "Table of Contents",
   "title_sidebar": "Contents",
   "toc_cell": false,
   "toc_position": {},
   "toc_section_display": true,
   "toc_window_display": false
  },
  "vscode": {
   "interpreter": {
    "hash": "fc06fe0fdd5ea9ad64ed95043871304d883246c697d8d3f458b27d6c57bc6b6e"
   }
  }
 },
 "nbformat": 4,
 "nbformat_minor": 5
}
